{
 "cells": [
  {
   "cell_type": "markdown",
   "id": "d497c920-4b28-4189-b7c9-3618a05ddb94",
   "metadata": {},
   "source": [
    "**Task: to conduct AB test and analyse the data. We implemented new post recommendations algorithm for users from group 2, group 1 was used as a control group \n",
    "The main hypothesis is that the new algorithm in the 2nd group will lead to CTR increasing**"
   ]
  },
  {
   "cell_type": "code",
   "execution_count": 1,
   "id": "791a6171-1675-42e7-8712-bde61465bc44",
   "metadata": {},
   "outputs": [],
   "source": [
    "import pandas as pd\n",
    "import pandahouse as ph\n",
    "import seaborn as sns\n",
    "import numpy as np\n",
    "from scipy.stats import mannwhitneyu\n",
    "from scipy.stats import ttest_ind\n",
    "from scipy.stats import norm\n",
    "from scipy import stats\n",
    "import matplotlib.pyplot as plt\n",
    "import hashlib\n",
    "from tqdm.auto import tqdm"
   ]
  },
  {
   "cell_type": "code",
   "execution_count": 2,
   "id": "354d66b3-88d7-4298-8e2f-c18d4bdea71c",
   "metadata": {},
   "outputs": [],
   "source": [
    "connection = {'host': 'https://clickhouse.lab.karpov.courses',\n",
    "                      'database':'simulator_20221120',\n",
    "                      'user':'', \n",
    "                      'password':''\n",
    "                     }"
   ]
  },
  {
   "cell_type": "code",
   "execution_count": 3,
   "id": "fd5fbec4-8761-4872-92b3-ee9bcced35c0",
   "metadata": {},
   "outputs": [
    {
     "data": {
      "text/html": [
       "<div>\n",
       "<style scoped>\n",
       "    .dataframe tbody tr th:only-of-type {\n",
       "        vertical-align: middle;\n",
       "    }\n",
       "\n",
       "    .dataframe tbody tr th {\n",
       "        vertical-align: top;\n",
       "    }\n",
       "\n",
       "    .dataframe thead th {\n",
       "        text-align: right;\n",
       "    }\n",
       "</style>\n",
       "<table border=\"1\" class=\"dataframe\">\n",
       "  <thead>\n",
       "    <tr style=\"text-align: right;\">\n",
       "      <th></th>\n",
       "      <th>exp_group</th>\n",
       "      <th>user_id</th>\n",
       "      <th>likes</th>\n",
       "      <th>views</th>\n",
       "      <th>ctr</th>\n",
       "    </tr>\n",
       "  </thead>\n",
       "  <tbody>\n",
       "    <tr>\n",
       "      <th>0</th>\n",
       "      <td>1</td>\n",
       "      <td>109963</td>\n",
       "      <td>3</td>\n",
       "      <td>15</td>\n",
       "      <td>0.200000</td>\n",
       "    </tr>\n",
       "    <tr>\n",
       "      <th>1</th>\n",
       "      <td>1</td>\n",
       "      <td>26117</td>\n",
       "      <td>32</td>\n",
       "      <td>141</td>\n",
       "      <td>0.226950</td>\n",
       "    </tr>\n",
       "    <tr>\n",
       "      <th>2</th>\n",
       "      <td>1</td>\n",
       "      <td>138232</td>\n",
       "      <td>18</td>\n",
       "      <td>73</td>\n",
       "      <td>0.246575</td>\n",
       "    </tr>\n",
       "    <tr>\n",
       "      <th>3</th>\n",
       "      <td>1</td>\n",
       "      <td>26295</td>\n",
       "      <td>33</td>\n",
       "      <td>122</td>\n",
       "      <td>0.270492</td>\n",
       "    </tr>\n",
       "    <tr>\n",
       "      <th>4</th>\n",
       "      <td>1</td>\n",
       "      <td>18392</td>\n",
       "      <td>7</td>\n",
       "      <td>32</td>\n",
       "      <td>0.218750</td>\n",
       "    </tr>\n",
       "  </tbody>\n",
       "</table>\n",
       "</div>"
      ],
      "text/plain": [
       "   exp_group  user_id  likes  views       ctr\n",
       "0          1   109963      3     15  0.200000\n",
       "1          1    26117     32    141  0.226950\n",
       "2          1   138232     18     73  0.246575\n",
       "3          1    26295     33    122  0.270492\n",
       "4          1    18392      7     32  0.218750"
      ]
     },
     "execution_count": 3,
     "metadata": {},
     "output_type": "execute_result"
    }
   ],
   "source": [
    "query = \"\"\"\n",
    "\n",
    "\n",
    "SELECT exp_group, \n",
    "    user_id,\n",
    "    sum(action = 'like') as likes,\n",
    "    sum(action = 'view') as views,\n",
    "    likes/views as ctr\n",
    "FROM {db}.feed_actions \n",
    "WHERE toDate(time) between '2022-11-02' and '2022-11-08'\n",
    "    and exp_group in (1,2)\n",
    "GROUP BY exp_group, user_id\n",
    "\n",
    "\"\"\"\n",
    "\n",
    "\n",
    "df = ph.read_clickhouse(query, connection=connection)\n",
    "df.head()"
   ]
  },
  {
   "cell_type": "code",
   "execution_count": 4,
   "id": "a42876de-f4b0-48bd-8f50-59c4de45851a",
   "metadata": {},
   "outputs": [
    {
     "data": {
      "text/html": [
       "<div>\n",
       "<style scoped>\n",
       "    .dataframe tbody tr th:only-of-type {\n",
       "        vertical-align: middle;\n",
       "    }\n",
       "\n",
       "    .dataframe tbody tr th {\n",
       "        vertical-align: top;\n",
       "    }\n",
       "\n",
       "    .dataframe thead th {\n",
       "        text-align: right;\n",
       "    }\n",
       "</style>\n",
       "<table border=\"1\" class=\"dataframe\">\n",
       "  <thead>\n",
       "    <tr style=\"text-align: right;\">\n",
       "      <th></th>\n",
       "      <th>exp_group</th>\n",
       "      <th>user_id</th>\n",
       "      <th>likes</th>\n",
       "      <th>views</th>\n",
       "      <th>ctr</th>\n",
       "    </tr>\n",
       "  </thead>\n",
       "  <tbody>\n",
       "    <tr>\n",
       "      <th>0</th>\n",
       "      <td>1</td>\n",
       "      <td>10079</td>\n",
       "      <td>10079</td>\n",
       "      <td>10079</td>\n",
       "      <td>10079</td>\n",
       "    </tr>\n",
       "    <tr>\n",
       "      <th>1</th>\n",
       "      <td>2</td>\n",
       "      <td>9952</td>\n",
       "      <td>9952</td>\n",
       "      <td>9952</td>\n",
       "      <td>9952</td>\n",
       "    </tr>\n",
       "  </tbody>\n",
       "</table>\n",
       "</div>"
      ],
      "text/plain": [
       "   exp_group  user_id  likes  views    ctr\n",
       "0          1    10079  10079  10079  10079\n",
       "1          2     9952   9952   9952   9952"
      ]
     },
     "execution_count": 4,
     "metadata": {},
     "output_type": "execute_result"
    }
   ],
   "source": [
    "df.groupby('exp_group', as_index = False).count()"
   ]
  },
  {
   "cell_type": "code",
   "execution_count": 5,
   "id": "d0bd2a7a-271d-4893-ae45-cf6d1bf02c02",
   "metadata": {},
   "outputs": [
    {
     "data": {
      "image/png": "[encoded data removed]",
      "text/plain": [
       "<Figure size 842.4x595.44 with 1 Axes>"
      ]
     },
     "metadata": {},
     "output_type": "display_data"
    }
   ],
   "source": [
    "sns.set(rc={'figure.figsize':(11.7,8.27)})\n",
    "\n",
    "groups = sns.histplot(data = df, \n",
    "              x='ctr', \n",
    "              hue='exp_group', \n",
    "              palette = ['r', 'b'],\n",
    "              alpha=0.5,\n",
    "              kde=False)"
   ]
  },
  {
   "cell_type": "code",
   "execution_count": 6,
   "id": "7d87cb75-398d-4e71-98a1-402110c57794",
   "metadata": {},
   "outputs": [
    {
     "data": {
      "text/plain": [
       "<AxesSubplot:xlabel='exp_group', ylabel='ctr'>"
      ]
     },
     "execution_count": 6,
     "metadata": {},
     "output_type": "execute_result"
    },
    {
     "data": {
      "image/png": "[encoded data removed]",
      "text/plain": [
       "<Figure size 842.4x595.44 with 1 Axes>"
      ]
     },
     "metadata": {},
     "output_type": "display_data"
    }
   ],
   "source": [
    "sns.boxplot(x=\"exp_group\", y=\"ctr\", data=df)"
   ]
  },
  {
   "cell_type": "markdown",
   "id": "8aee2160-fd96-40fc-b57d-085aa00c2de6",
   "metadata": {},
   "source": [
    "**Preliminary visualization shows that the distribution of CTR in control group 1 is similar to a normal distribution, and in test group 2 it is bimodal distribution**"
   ]
  },
  {
   "cell_type": "markdown",
   "id": "1eafb6e7",
   "metadata": {},
   "source": [
    "**Further in the document several test are conducted and analysed as an example**"
   ]
  },
  {
   "cell_type": "markdown",
   "id": "a3e9587b-9b0a-4cdd-9e8b-d2571dc026c2",
   "metadata": {},
   "source": [
    "**1. T-test**"
   ]
  },
  {
   "cell_type": "code",
   "execution_count": 7,
   "id": "b83391de-d1b2-408b-9e31-628fd3800f1b",
   "metadata": {},
   "outputs": [
    {
     "data": {
      "text/plain": [
       "Ttest_indResult(statistic=0.7094392041270486, pvalue=0.4780623130874935)"
      ]
     },
     "execution_count": 7,
     "metadata": {},
     "output_type": "execute_result"
    }
   ],
   "source": [
    "stats.ttest_ind(df[df.exp_group == 1].ctr, df[df.exp_group == 2].ctr, equal_var=False)"
   ]
  },
  {
   "cell_type": "markdown",
   "id": "ebaa9d55-93f3-4c93-b6e3-a7e8dc17246d",
   "metadata": {},
   "source": [
    "**According to the resulting p-value we cannot reject the null hypothesis (about the equality of the means), however, the distribution of group № 2 is not normal, so the result cannot be trusted**"
   ]
  },
  {
   "cell_type": "markdown",
   "id": "de94dc00-96c7-4228-8040-786c9596b20c",
   "metadata": {
    "tags": []
   },
   "source": [
    "**2. Mann–Whitney test**"
   ]
  },
  {
   "cell_type": "code",
   "execution_count": 8,
   "id": "e31564eb-4570-441c-9954-b13ecc73950b",
   "metadata": {},
   "outputs": [
    {
     "data": {
      "text/plain": [
       "MannwhitneyuResult(statistic=56601260.5, pvalue=6.0376484617779035e-56)"
      ]
     },
     "execution_count": 8,
     "metadata": {},
     "output_type": "execute_result"
    }
   ],
   "source": [
    "stats.mannwhitneyu(df[df.exp_group == 1].ctr, \n",
    "                   df[df.exp_group == 2].ctr,\n",
    "                   alternative = 'two-sided')"
   ]
  },
  {
   "cell_type": "markdown",
   "id": "95347e10-5d6c-4139-959d-a286018ce44f",
   "metadata": {},
   "source": [
    "**According to the resulting p-value we cannot reject the null hypothesis (about the equality of the means), however, the distribution of group № 2 is not normal, so the result cannot be trusted**"
   ]
  },
  {
   "cell_type": "markdown",
   "id": "81ea6d40-7018-4b56-a2a4-316f35ea47da",
   "metadata": {},
   "source": [
    "**3. Mann–Whitney test**"
   ]
  },
  {
   "cell_type": "code",
   "execution_count": 9,
   "id": "be696f0d-53cb-4a20-a31e-45b72766ba84",
   "metadata": {},
   "outputs": [
    {
     "data": {
      "image/png": "[encoded data removed]",
      "text/plain": [
       "<Figure size 360x360 with 1 Axes>"
      ]
     },
     "metadata": {},
     "output_type": "display_data"
    }
   ],
   "source": [
    "def get_smothed_ctr(user_likes, user_views, global_ctr, alpha):\n",
    "    smothed_ctr = (user_likes + alpha * global_ctr) / (user_views + alpha)\n",
    "    return smothed_ctr\n",
    "\n",
    "q = \"\"\"\n",
    "SELECT exp_group, \n",
    "    user_id,\n",
    "    sum(action = 'like') as likes,\n",
    "    sum(action = 'view') as views,\n",
    "    likes/views as ctr\n",
    "FROM {db}.feed_actions \n",
    "WHERE toDate(time) between '2022-11-02' and '2022-11-08'\n",
    "    and exp_group in (1,2)\n",
    "GROUP BY exp_group, user_id\n",
    "\"\"\"\n",
    "\n",
    "df = ph.read_clickhouse(q, connection=connection)\n",
    "\n",
    "global_ctr_1 = df[df.exp_group == 1].likes.sum()/df[df.exp_group == 1].views.sum()\n",
    "global_ctr_2 = df[df.exp_group == 2].likes.sum()/df[df.exp_group == 2].views.sum()\n",
    "\n",
    "group1 = df[df.exp_group == 1].copy()\n",
    "sns.set(rc={'figure.figsize':(11.7,8.27)})\n",
    "sns.displot(group1.ctr, \n",
    "             kde = False)\n",
    "group2 = df[df.exp_group == 2].copy()"
   ]
  },
  {
   "cell_type": "code",
   "execution_count": 10,
   "id": "073e4749-7a1a-4378-8fd5-706f39c86975",
   "metadata": {},
   "outputs": [
    {
     "data": {
      "text/plain": [
       "<seaborn.axisgrid.FacetGrid at 0x7f53912fa0a0>"
      ]
     },
     "execution_count": 10,
     "metadata": {},
     "output_type": "execute_result"
    },
    {
     "data": {
      "image/png": "[encoded data removed]",
      "text/plain": [
       "<Figure size 360x360 with 1 Axes>"
      ]
     },
     "metadata": {},
     "output_type": "display_data"
    }
   ],
   "source": [
    "group1['smothed_ctr'] = df.apply(\n",
    "    lambda x: get_smothed_ctr(x['likes'], x['views'], global_ctr_1, 5), axis=1)\n",
    "\n",
    "sns.displot(group1.smothed_ctr, \n",
    "             kde = False)"
   ]
  },
  {
   "cell_type": "code",
   "execution_count": 11,
   "id": "cc3cee8b-c8f6-4735-8c33-780f148371e6",
   "metadata": {},
   "outputs": [
    {
     "data": {
      "text/plain": [
       "<seaborn.axisgrid.FacetGrid at 0x7f53912e5670>"
      ]
     },
     "execution_count": 11,
     "metadata": {},
     "output_type": "execute_result"
    },
    {
     "data": {
      "image/png": "[encoded data removed]",
      "text/plain": [
       "<Figure size 360x360 with 1 Axes>"
      ]
     },
     "metadata": {},
     "output_type": "display_data"
    }
   ],
   "source": [
    "group2['smothed_ctr'] = df.apply(\n",
    "    lambda x: get_smothed_ctr(x['likes'], x['views'], global_ctr_2, 5), axis=1)\n",
    "\n",
    "sns.displot(group2.smothed_ctr, \n",
    "             kde = False)"
   ]
  },
  {
   "cell_type": "code",
   "execution_count": 12,
   "id": "c751f7a6-5043-413e-adc7-187003bac6f5",
   "metadata": {},
   "outputs": [
    {
     "data": {
      "text/plain": [
       "Ttest_indResult(statistic=2.2841320431616983, pvalue=0.0223769815558559)"
      ]
     },
     "execution_count": 12,
     "metadata": {},
     "output_type": "execute_result"
    }
   ],
   "source": [
    "stats.ttest_ind(group1.smothed_ctr, group2.smothed_ctr, equal_var=False)"
   ]
  },
  {
   "cell_type": "code",
   "execution_count": 13,
   "id": "dac29e94-ea20-436f-8f69-26daa4996677",
   "metadata": {},
   "outputs": [
    {
     "data": {
      "text/plain": [
       "MannwhitneyuResult(statistic=56925125.0, pvalue=1.6163964114270227e-61)"
      ]
     },
     "execution_count": 13,
     "metadata": {},
     "output_type": "execute_result"
    }
   ],
   "source": [
    "stats.mannwhitneyu(group1.smothed_ctr, \n",
    "                   group2.smothed_ctr,\n",
    "                   alternative = 'two-sided')"
   ]
  },
  {
   "cell_type": "code",
   "execution_count": 14,
   "id": "ce043a4e-fb44-4be8-bb32-44bd259edd77",
   "metadata": {},
   "outputs": [
    {
     "data": {
      "text/html": [
       "<div>\n",
       "<style scoped>\n",
       "    .dataframe tbody tr th:only-of-type {\n",
       "        vertical-align: middle;\n",
       "    }\n",
       "\n",
       "    .dataframe tbody tr th {\n",
       "        vertical-align: top;\n",
       "    }\n",
       "\n",
       "    .dataframe thead th {\n",
       "        text-align: right;\n",
       "    }\n",
       "</style>\n",
       "<table border=\"1\" class=\"dataframe\">\n",
       "  <thead>\n",
       "    <tr style=\"text-align: right;\">\n",
       "      <th></th>\n",
       "      <th>exp_group</th>\n",
       "      <th>user_id</th>\n",
       "      <th>likes</th>\n",
       "      <th>views</th>\n",
       "      <th>ctr</th>\n",
       "      <th>smothed_ctr</th>\n",
       "    </tr>\n",
       "  </thead>\n",
       "  <tbody>\n",
       "    <tr>\n",
       "      <th>0</th>\n",
       "      <td>1</td>\n",
       "      <td>109963</td>\n",
       "      <td>3</td>\n",
       "      <td>15</td>\n",
       "      <td>0.200000</td>\n",
       "      <td>0.202007</td>\n",
       "    </tr>\n",
       "    <tr>\n",
       "      <th>1</th>\n",
       "      <td>1</td>\n",
       "      <td>26117</td>\n",
       "      <td>32</td>\n",
       "      <td>141</td>\n",
       "      <td>0.226950</td>\n",
       "      <td>0.226302</td>\n",
       "    </tr>\n",
       "    <tr>\n",
       "      <th>2</th>\n",
       "      <td>1</td>\n",
       "      <td>138232</td>\n",
       "      <td>18</td>\n",
       "      <td>73</td>\n",
       "      <td>0.246575</td>\n",
       "      <td>0.244104</td>\n",
       "    </tr>\n",
       "    <tr>\n",
       "      <th>3</th>\n",
       "      <td>1</td>\n",
       "      <td>26295</td>\n",
       "      <td>33</td>\n",
       "      <td>122</td>\n",
       "      <td>0.270492</td>\n",
       "      <td>0.268033</td>\n",
       "    </tr>\n",
       "    <tr>\n",
       "      <th>4</th>\n",
       "      <td>1</td>\n",
       "      <td>18392</td>\n",
       "      <td>7</td>\n",
       "      <td>32</td>\n",
       "      <td>0.218750</td>\n",
       "      <td>0.217301</td>\n",
       "    </tr>\n",
       "    <tr>\n",
       "      <th>...</th>\n",
       "      <td>...</td>\n",
       "      <td>...</td>\n",
       "      <td>...</td>\n",
       "      <td>...</td>\n",
       "      <td>...</td>\n",
       "      <td>...</td>\n",
       "    </tr>\n",
       "    <tr>\n",
       "      <th>20020</th>\n",
       "      <td>1</td>\n",
       "      <td>31540</td>\n",
       "      <td>8</td>\n",
       "      <td>45</td>\n",
       "      <td>0.177778</td>\n",
       "      <td>0.180803</td>\n",
       "    </tr>\n",
       "    <tr>\n",
       "      <th>20021</th>\n",
       "      <td>1</td>\n",
       "      <td>23359</td>\n",
       "      <td>23</td>\n",
       "      <td>91</td>\n",
       "      <td>0.252747</td>\n",
       "      <td>0.250418</td>\n",
       "    </tr>\n",
       "    <tr>\n",
       "      <th>20024</th>\n",
       "      <td>1</td>\n",
       "      <td>110956</td>\n",
       "      <td>3</td>\n",
       "      <td>16</td>\n",
       "      <td>0.187500</td>\n",
       "      <td>0.192387</td>\n",
       "    </tr>\n",
       "    <tr>\n",
       "      <th>20026</th>\n",
       "      <td>1</td>\n",
       "      <td>132567</td>\n",
       "      <td>45</td>\n",
       "      <td>296</td>\n",
       "      <td>0.152027</td>\n",
       "      <td>0.152957</td>\n",
       "    </tr>\n",
       "    <tr>\n",
       "      <th>20027</th>\n",
       "      <td>1</td>\n",
       "      <td>30872</td>\n",
       "      <td>11</td>\n",
       "      <td>59</td>\n",
       "      <td>0.186441</td>\n",
       "      <td>0.188127</td>\n",
       "    </tr>\n",
       "  </tbody>\n",
       "</table>\n",
       "<p>10079 rows × 6 columns</p>\n",
       "</div>"
      ],
      "text/plain": [
       "       exp_group  user_id  likes  views       ctr  smothed_ctr\n",
       "0              1   109963      3     15  0.200000     0.202007\n",
       "1              1    26117     32    141  0.226950     0.226302\n",
       "2              1   138232     18     73  0.246575     0.244104\n",
       "3              1    26295     33    122  0.270492     0.268033\n",
       "4              1    18392      7     32  0.218750     0.217301\n",
       "...          ...      ...    ...    ...       ...          ...\n",
       "20020          1    31540      8     45  0.177778     0.180803\n",
       "20021          1    23359     23     91  0.252747     0.250418\n",
       "20024          1   110956      3     16  0.187500     0.192387\n",
       "20026          1   132567     45    296  0.152027     0.152957\n",
       "20027          1    30872     11     59  0.186441     0.188127\n",
       "\n",
       "[10079 rows x 6 columns]"
      ]
     },
     "execution_count": 14,
     "metadata": {},
     "output_type": "execute_result"
    }
   ],
   "source": [
    "group1"
   ]
  },
  {
   "cell_type": "markdown",
   "id": "04f10e7f-0c15-4de8-8056-d2386fcc4619",
   "metadata": {},
   "source": [
    "**Based on the results of checking the smoothed CTR, both the t-test and the Mann-Whitney test obtained a statistically significant difference. The change of p-value for of the t-test for smoothed CTR against usual CTR probably occured, because we smoothed out the CTR values (and the t-test is highly dependent on outliers)**"
   ]
  },
  {
   "cell_type": "markdown",
   "id": "dd762577-cb81-40d6-b159-0d72363b5b4e",
   "metadata": {},
   "source": [
    "**4. Poisson bootstrap check**"
   ]
  },
  {
   "cell_type": "code",
   "execution_count": 15,
   "id": "629e9d9a-156c-489a-9531-7fc549b25953",
   "metadata": {},
   "outputs": [
    {
     "data": {
      "text/plain": [
       "<AxesSubplot:ylabel='Count'>"
      ]
     },
     "execution_count": 15,
     "metadata": {},
     "output_type": "execute_result"
    },
    {
     "data": {
      "image/png": "[encoded data removed]",
      "text/plain": [
       "<Figure size 842.4x595.44 with 1 Axes>"
      ]
     },
     "metadata": {},
     "output_type": "display_data"
    }
   ],
   "source": [
    "def bootstrap(likes1, views1, likes2, views2, n_bootstrap=3000):\n",
    "\n",
    "    poisson_bootstraps1 = stats.poisson(1).rvs(\n",
    "        (n_bootstrap, len(likes1))).astype(np.int64)\n",
    "\n",
    "    poisson_bootstraps2 = stats.poisson(1).rvs(\n",
    "            (n_bootstrap, len(likes2))).astype(np.int64)\n",
    "    \n",
    "    globalCTR1 = (poisson_bootstraps1*likes1).sum(axis=1)/(poisson_bootstraps1*views1).sum(axis=1)\n",
    "    \n",
    "    globalCTR2 = (poisson_bootstraps2*likes2).sum(axis=1)/(poisson_bootstraps2*views2).sum(axis=1)\n",
    "\n",
    "    return globalCTR1, globalCTR2\n",
    "\n",
    "\n",
    "q = \"\"\"\n",
    "SELECT exp_group, \n",
    "    user_id,\n",
    "    sum(action = 'like') as likes,\n",
    "    sum(action = 'view') as views,\n",
    "    likes/views as ctr\n",
    "FROM {db}.feed_actions \n",
    "WHERE toDate(time) between '2022-11-02' and '2022-11-08'\n",
    "    and exp_group in (1,2)\n",
    "GROUP BY exp_group, user_id\n",
    "\"\"\"\n",
    "\n",
    "\n",
    "df = ph.read_clickhouse(q, connection=connection)\n",
    "\n",
    "likes1 = df[df.exp_group == 1].likes.to_numpy()\n",
    "views1 = df[df.exp_group == 1].views.to_numpy()\n",
    "likes2 = df[df.exp_group == 2].likes.to_numpy()\n",
    "views2 = df[df.exp_group == 2].views.to_numpy()\n",
    "\n",
    "ctr1, ctr2 = bootstrap(likes1, views1, likes2, views2)\n",
    "\n",
    "sns.histplot(ctr1)\n",
    "sns.histplot(ctr2)"
   ]
  },
  {
   "cell_type": "code",
   "execution_count": 16,
   "id": "41e645e9-216b-4604-90a6-fea19f906431",
   "metadata": {},
   "outputs": [
    {
     "data": {
      "text/plain": [
       "<AxesSubplot:ylabel='Count'>"
      ]
     },
     "execution_count": 16,
     "metadata": {},
     "output_type": "execute_result"
    },
    {
     "data": {
      "image/png": "[encoded data removed]",
      "text/plain": [
       "<Figure size 842.4x595.44 with 1 Axes>"
      ]
     },
     "metadata": {},
     "output_type": "display_data"
    }
   ],
   "source": [
    "#Difference between global CTR\n",
    "\n",
    "sns.histplot(ctr1 - ctr2)\n"
   ]
  },
  {
   "cell_type": "markdown",
   "id": "f0dfe730-db38-4258-b7f8-69f23e234044",
   "metadata": {},
   "source": [
    "**The distribution of the CTR difference does not include 0, so we conclude that there is a statistically significant difference**"
   ]
  },
  {
   "cell_type": "markdown",
   "id": "56d05b7f-8cec-4fb8-b330-4e30096b0eeb",
   "metadata": {},
   "source": [
    "**5. Bucket testing**"
   ]
  },
  {
   "cell_type": "code",
   "execution_count": 17,
   "id": "fb431044-af67-4d16-9a9a-3ac6d7f34439",
   "metadata": {},
   "outputs": [
    {
     "data": {
      "text/plain": [
       "MannwhitneyuResult(statistic=1995.0, pvalue=2.859963936492646e-07)"
      ]
     },
     "execution_count": 17,
     "metadata": {},
     "output_type": "execute_result"
    }
   ],
   "source": [
    "q = \"\"\"\n",
    "\n",
    "SELECT exp_group, bucket,\n",
    "    sum(likes)/sum(views) as bucket_ctr,\n",
    "    quantileExact(0.9)(ctr) as ctr9\n",
    "FROM (SELECT exp_group, \n",
    "        xxHash64(user_id)%50 as bucket,\n",
    "        user_id,\n",
    "        sum(action = 'like') as likes,\n",
    "        sum(action = 'view') as views,\n",
    "        likes/views as ctr\n",
    "    FROM {db}.feed_actions \n",
    "    WHERE toDate(time) between '2022-11-02' and '2022-11-08'\n",
    "        and exp_group in (1,2)\n",
    "    GROUP BY exp_group, bucket, user_id)\n",
    "GROUP BY exp_group, bucket\n",
    "\"\"\"\n",
    "\n",
    "df_bucket = ph.read_clickhouse(q, connection=connection)\n",
    "\n",
    "stats.mannwhitneyu(df_bucket[df_bucket.exp_group == 1].bucket_ctr, \n",
    "                   df_bucket[df_bucket.exp_group == 2].bucket_ctr, \n",
    "                   alternative = 'two-sided')"
   ]
  },
  {
   "cell_type": "code",
   "execution_count": 18,
   "id": "633f4c46-fba6-49a5-804c-b3909ceefe56",
   "metadata": {},
   "outputs": [
    {
     "data": {
      "text/plain": [
       "Ttest_indResult(statistic=5.668234732053979, pvalue=3.4455951649945907e-07)"
      ]
     },
     "execution_count": 18,
     "metadata": {},
     "output_type": "execute_result"
    }
   ],
   "source": [
    "stats.ttest_ind(df_bucket[df_bucket.exp_group == 1].bucket_ctr, \n",
    "                   df_bucket[df_bucket.exp_group == 2].bucket_ctr, \n",
    "                   equal_var = False)"
   ]
  },
  {
   "cell_type": "code",
   "execution_count": 19,
   "id": "0cb203a8-b962-47c5-a971-f3399771cd39",
   "metadata": {},
   "outputs": [
    {
     "data": {
      "text/plain": [
       "<AxesSubplot:xlabel='bucket_ctr', ylabel='Count'>"
      ]
     },
     "execution_count": 19,
     "metadata": {},
     "output_type": "execute_result"
    },
    {
     "data": {
      "image/png": "[encoded data removed]",
      "text/plain": [
       "<Figure size 842.4x595.44 with 1 Axes>"
      ]
     },
     "metadata": {},
     "output_type": "display_data"
    }
   ],
   "source": [
    "sns.histplot(df_bucket[df_bucket.exp_group == 1].bucket_ctr)"
   ]
  },
  {
   "cell_type": "code",
   "execution_count": 20,
   "id": "8234ac84-0bdc-469d-876e-755fe7ce4b2d",
   "metadata": {},
   "outputs": [
    {
     "data": {
      "text/plain": [
       "<AxesSubplot:xlabel='bucket_ctr', ylabel='Count'>"
      ]
     },
     "execution_count": 20,
     "metadata": {},
     "output_type": "execute_result"
    },
    {
     "data": {
      "image/png": "[encoded data removed]",
      "text/plain": [
       "<Figure size 842.4x595.44 with 1 Axes>"
      ]
     },
     "metadata": {},
     "output_type": "display_data"
    }
   ],
   "source": [
    "sns.histplot(df_bucket[df_bucket.exp_group == 2].bucket_ctr)"
   ]
  },
  {
   "cell_type": "markdown",
   "id": "d512ed1b-38fa-4d69-b38b-5564d966527f",
   "metadata": {},
   "source": [
    "**The results of the t-test and the Mann-Whitney test also show a statistically significant difference. In this case, the t-test showed a statistically significant difference, most likely due to the fact that the distributions within the bucket turned out to be close to normal**"
   ]
  },
  {
   "cell_type": "markdown",
   "id": "425fba8e-0343-463f-90a3-226f158fafce",
   "metadata": {},
   "source": [
    "**Conclusion from the tests carried out:\n",
    "We compared the CTR of the control and test groups by 5 different methods. With the exception of a direct comparison by the t-test (which is rather inaccurate based on the distributions), we got a statistically significant difference, and in the direction of worsening CTR when introducing a new recommendation algorithm. Let's try to find out if the change was caused by external factors**"
   ]
  },
  {
   "cell_type": "code",
   "execution_count": 22,
   "id": "166e02b4-6fab-4298-9ed3-e2bf472d9127",
   "metadata": {},
   "outputs": [
    {
     "data": {
      "text/html": [
       "<div>\n",
       "<style scoped>\n",
       "    .dataframe tbody tr th:only-of-type {\n",
       "        vertical-align: middle;\n",
       "    }\n",
       "\n",
       "    .dataframe tbody tr th {\n",
       "        vertical-align: top;\n",
       "    }\n",
       "\n",
       "    .dataframe thead th {\n",
       "        text-align: right;\n",
       "    }\n",
       "</style>\n",
       "<table border=\"1\" class=\"dataframe\">\n",
       "  <thead>\n",
       "    <tr style=\"text-align: right;\">\n",
       "      <th></th>\n",
       "      <th>exp_group</th>\n",
       "      <th>user_id</th>\n",
       "      <th>likes</th>\n",
       "      <th>views</th>\n",
       "      <th>ctr</th>\n",
       "    </tr>\n",
       "  </thead>\n",
       "  <tbody>\n",
       "    <tr>\n",
       "      <th>0</th>\n",
       "      <td>1</td>\n",
       "      <td>10079</td>\n",
       "      <td>10079</td>\n",
       "      <td>10079</td>\n",
       "      <td>10079</td>\n",
       "    </tr>\n",
       "    <tr>\n",
       "      <th>1</th>\n",
       "      <td>2</td>\n",
       "      <td>9952</td>\n",
       "      <td>9952</td>\n",
       "      <td>9952</td>\n",
       "      <td>9952</td>\n",
       "    </tr>\n",
       "  </tbody>\n",
       "</table>\n",
       "</div>"
      ],
      "text/plain": [
       "   exp_group  user_id  likes  views    ctr\n",
       "0          1    10079  10079  10079  10079\n",
       "1          2     9952   9952   9952   9952"
      ]
     },
     "execution_count": 22,
     "metadata": {},
     "output_type": "execute_result"
    }
   ],
   "source": [
    "df.groupby('exp_group', as_index = False).count()"
   ]
  },
  {
   "cell_type": "code",
   "execution_count": 23,
   "id": "7ec738d7-5d5d-4161-953e-2366c999a084",
   "metadata": {},
   "outputs": [
    {
     "data": {
      "text/html": [
       "<div>\n",
       "<style scoped>\n",
       "    .dataframe tbody tr th:only-of-type {\n",
       "        vertical-align: middle;\n",
       "    }\n",
       "\n",
       "    .dataframe tbody tr th {\n",
       "        vertical-align: top;\n",
       "    }\n",
       "\n",
       "    .dataframe thead th {\n",
       "        text-align: right;\n",
       "    }\n",
       "</style>\n",
       "<table border=\"1\" class=\"dataframe\">\n",
       "  <thead>\n",
       "    <tr style=\"text-align: right;\">\n",
       "      <th></th>\n",
       "      <th>exp_group</th>\n",
       "      <th>ctr</th>\n",
       "    </tr>\n",
       "  </thead>\n",
       "  <tbody>\n",
       "    <tr>\n",
       "      <th>0</th>\n",
       "      <td>1</td>\n",
       "      <td>0.215605</td>\n",
       "    </tr>\n",
       "    <tr>\n",
       "      <th>1</th>\n",
       "      <td>2</td>\n",
       "      <td>0.214419</td>\n",
       "    </tr>\n",
       "  </tbody>\n",
       "</table>\n",
       "</div>"
      ],
      "text/plain": [
       "   exp_group       ctr\n",
       "0          1  0.215605\n",
       "1          2  0.214419"
      ]
     },
     "execution_count": 23,
     "metadata": {},
     "output_type": "execute_result"
    }
   ],
   "source": [
    "df.groupby('exp_group', as_index = False).agg({'ctr':'mean'})"
   ]
  },
  {
   "cell_type": "code",
   "execution_count": 25,
   "id": "448890a5-8a21-4f15-93d1-0295b390b53d",
   "metadata": {},
   "outputs": [
    {
     "data": {
      "text/plain": [
       "1"
      ]
     },
     "execution_count": 25,
     "metadata": {},
     "output_type": "execute_result"
    }
   ],
   "source": [
    "df.groupby('user_id', as_index = False).agg({'exp_group':'count'}).exp_group.max()"
   ]
  },
  {
   "cell_type": "code",
   "execution_count": 26,
   "id": "2ce991d2-2bc3-4eef-8f9e-7fc5396ca928",
   "metadata": {},
   "outputs": [
    {
     "data": {
      "text/html": [
       "<div>\n",
       "<style scoped>\n",
       "    .dataframe tbody tr th:only-of-type {\n",
       "        vertical-align: middle;\n",
       "    }\n",
       "\n",
       "    .dataframe tbody tr th {\n",
       "        vertical-align: top;\n",
       "    }\n",
       "\n",
       "    .dataframe thead th {\n",
       "        text-align: right;\n",
       "    }\n",
       "</style>\n",
       "<table border=\"1\" class=\"dataframe\">\n",
       "  <thead>\n",
       "    <tr style=\"text-align: right;\">\n",
       "      <th></th>\n",
       "      <th>exp_group</th>\n",
       "      <th>user_id</th>\n",
       "      <th>likes</th>\n",
       "      <th>views</th>\n",
       "      <th>ctr</th>\n",
       "    </tr>\n",
       "  </thead>\n",
       "  <tbody>\n",
       "    <tr>\n",
       "      <th>5</th>\n",
       "      <td>2</td>\n",
       "      <td>131473</td>\n",
       "      <td>14</td>\n",
       "      <td>134</td>\n",
       "      <td>0.104478</td>\n",
       "    </tr>\n",
       "    <tr>\n",
       "      <th>6</th>\n",
       "      <td>2</td>\n",
       "      <td>23985</td>\n",
       "      <td>7</td>\n",
       "      <td>87</td>\n",
       "      <td>0.080460</td>\n",
       "    </tr>\n",
       "    <tr>\n",
       "      <th>7</th>\n",
       "      <td>2</td>\n",
       "      <td>24523</td>\n",
       "      <td>11</td>\n",
       "      <td>101</td>\n",
       "      <td>0.108911</td>\n",
       "    </tr>\n",
       "    <tr>\n",
       "      <th>14</th>\n",
       "      <td>2</td>\n",
       "      <td>6911</td>\n",
       "      <td>2</td>\n",
       "      <td>38</td>\n",
       "      <td>0.052632</td>\n",
       "    </tr>\n",
       "    <tr>\n",
       "      <th>15</th>\n",
       "      <td>2</td>\n",
       "      <td>119153</td>\n",
       "      <td>2</td>\n",
       "      <td>24</td>\n",
       "      <td>0.083333</td>\n",
       "    </tr>\n",
       "    <tr>\n",
       "      <th>...</th>\n",
       "      <td>...</td>\n",
       "      <td>...</td>\n",
       "      <td>...</td>\n",
       "      <td>...</td>\n",
       "      <td>...</td>\n",
       "    </tr>\n",
       "    <tr>\n",
       "      <th>20018</th>\n",
       "      <td>2</td>\n",
       "      <td>24633</td>\n",
       "      <td>7</td>\n",
       "      <td>66</td>\n",
       "      <td>0.106061</td>\n",
       "    </tr>\n",
       "    <tr>\n",
       "      <th>20019</th>\n",
       "      <td>2</td>\n",
       "      <td>109317</td>\n",
       "      <td>2</td>\n",
       "      <td>26</td>\n",
       "      <td>0.076923</td>\n",
       "    </tr>\n",
       "    <tr>\n",
       "      <th>20023</th>\n",
       "      <td>2</td>\n",
       "      <td>16512</td>\n",
       "      <td>1</td>\n",
       "      <td>15</td>\n",
       "      <td>0.066667</td>\n",
       "    </tr>\n",
       "    <tr>\n",
       "      <th>20025</th>\n",
       "      <td>2</td>\n",
       "      <td>17146</td>\n",
       "      <td>0</td>\n",
       "      <td>10</td>\n",
       "      <td>0.000000</td>\n",
       "    </tr>\n",
       "    <tr>\n",
       "      <th>20030</th>\n",
       "      <td>2</td>\n",
       "      <td>17310</td>\n",
       "      <td>9</td>\n",
       "      <td>82</td>\n",
       "      <td>0.109756</td>\n",
       "    </tr>\n",
       "  </tbody>\n",
       "</table>\n",
       "<p>5486 rows × 5 columns</p>\n",
       "</div>"
      ],
      "text/plain": [
       "       exp_group  user_id  likes  views       ctr\n",
       "5              2   131473     14    134  0.104478\n",
       "6              2    23985      7     87  0.080460\n",
       "7              2    24523     11    101  0.108911\n",
       "14             2     6911      2     38  0.052632\n",
       "15             2   119153      2     24  0.083333\n",
       "...          ...      ...    ...    ...       ...\n",
       "20018          2    24633      7     66  0.106061\n",
       "20019          2   109317      2     26  0.076923\n",
       "20023          2    16512      1     15  0.066667\n",
       "20025          2    17146      0     10  0.000000\n",
       "20030          2    17310      9     82  0.109756\n",
       "\n",
       "[5486 rows x 5 columns]"
      ]
     },
     "execution_count": 26,
     "metadata": {},
     "output_type": "execute_result"
    }
   ],
   "source": [
    "df[(df['exp_group'] == 2) & (df['ctr'] < 0.2)]"
   ]
  },
  {
   "cell_type": "code",
   "execution_count": 27,
   "id": "1c5943f8-488a-4c85-a852-bd1251143165",
   "metadata": {},
   "outputs": [
    {
     "data": {
      "image/png": "[encoded data removed]",
      "text/plain": [
       "<Figure size 842.4x595.44 with 1 Axes>"
      ]
     },
     "metadata": {},
     "output_type": "display_data"
    }
   ],
   "source": [
    "sns.set(rc={'figure.figsize':(11.7,8.27)})\n",
    "\n",
    "groups = sns.histplot(data = df[(df['exp_group'] == 2) & (df['ctr'] < 0.2)], \n",
    "              x='ctr', \n",
    "              hue='exp_group', \n",
    "              palette = 'mako',\n",
    "              alpha=0.5,\n",
    "              kde=False)"
   ]
  },
  {
   "cell_type": "code",
   "execution_count": 28,
   "id": "7b09a996-b3f9-4dfa-84ef-c1467110fa4e",
   "metadata": {},
   "outputs": [],
   "source": [
    "q = \"\"\"\n",
    "SELECT exp_group, \n",
    "    user_id,\n",
    "    sum(action = 'like') as likes,\n",
    "    sum(action = 'view') as views,\n",
    "    likes/views as ctr,\n",
    "    os,\n",
    "    gender,\n",
    "    source,\n",
    "    country,\n",
    "    city\n",
    "FROM {db}.feed_actions \n",
    "WHERE toDate(time) between '2022-11-02' and '2022-11-08'\n",
    "    and exp_group in (1,2)\n",
    "GROUP BY exp_group, user_id, os, gender, source, country, city\n",
    "\"\"\"\n",
    "\n",
    "df2 = ph.read_clickhouse(q, connection=connection)\n"
   ]
  },
  {
   "cell_type": "code",
   "execution_count": 29,
   "id": "e0a8e5e5-9294-45b3-977c-41bb284d7d7c",
   "metadata": {},
   "outputs": [
    {
     "data": {
      "text/html": [
       "<div>\n",
       "<style scoped>\n",
       "    .dataframe tbody tr th:only-of-type {\n",
       "        vertical-align: middle;\n",
       "    }\n",
       "\n",
       "    .dataframe tbody tr th {\n",
       "        vertical-align: top;\n",
       "    }\n",
       "\n",
       "    .dataframe thead th {\n",
       "        text-align: right;\n",
       "    }\n",
       "</style>\n",
       "<table border=\"1\" class=\"dataframe\">\n",
       "  <thead>\n",
       "    <tr style=\"text-align: right;\">\n",
       "      <th></th>\n",
       "      <th>exp_group</th>\n",
       "      <th>ctr</th>\n",
       "    </tr>\n",
       "  </thead>\n",
       "  <tbody>\n",
       "    <tr>\n",
       "      <th>0</th>\n",
       "      <td>1</td>\n",
       "      <td>0.215605</td>\n",
       "    </tr>\n",
       "    <tr>\n",
       "      <th>1</th>\n",
       "      <td>2</td>\n",
       "      <td>0.214419</td>\n",
       "    </tr>\n",
       "  </tbody>\n",
       "</table>\n",
       "</div>"
      ],
      "text/plain": [
       "   exp_group       ctr\n",
       "0          1  0.215605\n",
       "1          2  0.214419"
      ]
     },
     "execution_count": 29,
     "metadata": {},
     "output_type": "execute_result"
    }
   ],
   "source": [
    "df2.groupby('exp_group', as_index = False).agg({'ctr':'mean'})"
   ]
  },
  {
   "cell_type": "code",
   "execution_count": 65,
   "id": "9f17365b-d9a5-4176-96fa-24fd462e80bc",
   "metadata": {},
   "outputs": [
    {
     "data": {
      "text/html": [
       "<div>\n",
       "<style scoped>\n",
       "    .dataframe tbody tr th:only-of-type {\n",
       "        vertical-align: middle;\n",
       "    }\n",
       "\n",
       "    .dataframe tbody tr th {\n",
       "        vertical-align: top;\n",
       "    }\n",
       "\n",
       "    .dataframe thead th {\n",
       "        text-align: right;\n",
       "    }\n",
       "</style>\n",
       "<table border=\"1\" class=\"dataframe\">\n",
       "  <thead>\n",
       "    <tr style=\"text-align: right;\">\n",
       "      <th></th>\n",
       "      <th>exp_group</th>\n",
       "      <th>os</th>\n",
       "      <th>user_id</th>\n",
       "    </tr>\n",
       "  </thead>\n",
       "  <tbody>\n",
       "    <tr>\n",
       "      <th>0</th>\n",
       "      <td>1</td>\n",
       "      <td>Android</td>\n",
       "      <td>6532</td>\n",
       "    </tr>\n",
       "    <tr>\n",
       "      <th>1</th>\n",
       "      <td>1</td>\n",
       "      <td>iOS</td>\n",
       "      <td>3547</td>\n",
       "    </tr>\n",
       "    <tr>\n",
       "      <th>2</th>\n",
       "      <td>2</td>\n",
       "      <td>Android</td>\n",
       "      <td>6409</td>\n",
       "    </tr>\n",
       "    <tr>\n",
       "      <th>3</th>\n",
       "      <td>2</td>\n",
       "      <td>iOS</td>\n",
       "      <td>3543</td>\n",
       "    </tr>\n",
       "  </tbody>\n",
       "</table>\n",
       "</div>"
      ],
      "text/plain": [
       "   exp_group       os  user_id\n",
       "0          1  Android     6532\n",
       "1          1      iOS     3547\n",
       "2          2  Android     6409\n",
       "3          2      iOS     3543"
      ]
     },
     "execution_count": 65,
     "metadata": {},
     "output_type": "execute_result"
    }
   ],
   "source": [
    "df2.groupby(['exp_group', 'os'], as_index = False).agg({'user_id':'count'})"
   ]
  },
  {
   "cell_type": "code",
   "execution_count": 31,
   "id": "5be5c473-87de-4bb6-85da-a5afea225952",
   "metadata": {},
   "outputs": [
    {
     "data": {
      "text/html": [
       "<div>\n",
       "<style scoped>\n",
       "    .dataframe tbody tr th:only-of-type {\n",
       "        vertical-align: middle;\n",
       "    }\n",
       "\n",
       "    .dataframe tbody tr th {\n",
       "        vertical-align: top;\n",
       "    }\n",
       "\n",
       "    .dataframe thead th {\n",
       "        text-align: right;\n",
       "    }\n",
       "</style>\n",
       "<table border=\"1\" class=\"dataframe\">\n",
       "  <thead>\n",
       "    <tr style=\"text-align: right;\">\n",
       "      <th></th>\n",
       "      <th>exp_group</th>\n",
       "      <th>source</th>\n",
       "      <th>user_id</th>\n",
       "    </tr>\n",
       "  </thead>\n",
       "  <tbody>\n",
       "    <tr>\n",
       "      <th>0</th>\n",
       "      <td>1</td>\n",
       "      <td>ads</td>\n",
       "      <td>4720</td>\n",
       "    </tr>\n",
       "    <tr>\n",
       "      <th>1</th>\n",
       "      <td>1</td>\n",
       "      <td>organic</td>\n",
       "      <td>5359</td>\n",
       "    </tr>\n",
       "    <tr>\n",
       "      <th>2</th>\n",
       "      <td>2</td>\n",
       "      <td>ads</td>\n",
       "      <td>4694</td>\n",
       "    </tr>\n",
       "    <tr>\n",
       "      <th>3</th>\n",
       "      <td>2</td>\n",
       "      <td>organic</td>\n",
       "      <td>5258</td>\n",
       "    </tr>\n",
       "  </tbody>\n",
       "</table>\n",
       "</div>"
      ],
      "text/plain": [
       "   exp_group   source  user_id\n",
       "0          1      ads     4720\n",
       "1          1  organic     5359\n",
       "2          2      ads     4694\n",
       "3          2  organic     5258"
      ]
     },
     "execution_count": 31,
     "metadata": {},
     "output_type": "execute_result"
    }
   ],
   "source": [
    "df2.groupby(['exp_group', 'source'], as_index = False).agg({'user_id':'count'})"
   ]
  },
  {
   "cell_type": "code",
   "execution_count": 32,
   "id": "f19da1b7-1de0-4142-b35c-9812163bbaef",
   "metadata": {},
   "outputs": [
    {
     "data": {
      "text/html": [
       "<div>\n",
       "<style scoped>\n",
       "    .dataframe tbody tr th:only-of-type {\n",
       "        vertical-align: middle;\n",
       "    }\n",
       "\n",
       "    .dataframe tbody tr th {\n",
       "        vertical-align: top;\n",
       "    }\n",
       "\n",
       "    .dataframe thead th {\n",
       "        text-align: right;\n",
       "    }\n",
       "</style>\n",
       "<table border=\"1\" class=\"dataframe\">\n",
       "  <thead>\n",
       "    <tr style=\"text-align: right;\">\n",
       "      <th></th>\n",
       "      <th>exp_group</th>\n",
       "      <th>gender</th>\n",
       "      <th>user_id</th>\n",
       "    </tr>\n",
       "  </thead>\n",
       "  <tbody>\n",
       "    <tr>\n",
       "      <th>0</th>\n",
       "      <td>1</td>\n",
       "      <td>0</td>\n",
       "      <td>4535</td>\n",
       "    </tr>\n",
       "    <tr>\n",
       "      <th>1</th>\n",
       "      <td>1</td>\n",
       "      <td>1</td>\n",
       "      <td>5544</td>\n",
       "    </tr>\n",
       "    <tr>\n",
       "      <th>2</th>\n",
       "      <td>2</td>\n",
       "      <td>0</td>\n",
       "      <td>4445</td>\n",
       "    </tr>\n",
       "    <tr>\n",
       "      <th>3</th>\n",
       "      <td>2</td>\n",
       "      <td>1</td>\n",
       "      <td>5507</td>\n",
       "    </tr>\n",
       "  </tbody>\n",
       "</table>\n",
       "</div>"
      ],
      "text/plain": [
       "   exp_group  gender  user_id\n",
       "0          1       0     4535\n",
       "1          1       1     5544\n",
       "2          2       0     4445\n",
       "3          2       1     5507"
      ]
     },
     "execution_count": 32,
     "metadata": {},
     "output_type": "execute_result"
    }
   ],
   "source": [
    "df2.groupby(['exp_group', 'gender'], as_index = False).agg({'user_id':'count'})"
   ]
  },
  {
   "cell_type": "code",
   "execution_count": 33,
   "id": "85bc6522-458c-47cb-8750-f3af4e677470",
   "metadata": {},
   "outputs": [
    {
     "data": {
      "text/html": [
       "<div>\n",
       "<style scoped>\n",
       "    .dataframe tbody tr th:only-of-type {\n",
       "        vertical-align: middle;\n",
       "    }\n",
       "\n",
       "    .dataframe tbody tr th {\n",
       "        vertical-align: top;\n",
       "    }\n",
       "\n",
       "    .dataframe thead th {\n",
       "        text-align: right;\n",
       "    }\n",
       "</style>\n",
       "<table border=\"1\" class=\"dataframe\">\n",
       "  <thead>\n",
       "    <tr style=\"text-align: right;\">\n",
       "      <th></th>\n",
       "      <th>exp_group</th>\n",
       "      <th>country</th>\n",
       "      <th>user_id</th>\n",
       "    </tr>\n",
       "  </thead>\n",
       "  <tbody>\n",
       "    <tr>\n",
       "      <th>0</th>\n",
       "      <td>1</td>\n",
       "      <td>Azerbaijan</td>\n",
       "      <td>90</td>\n",
       "    </tr>\n",
       "    <tr>\n",
       "      <th>1</th>\n",
       "      <td>1</td>\n",
       "      <td>Belarus</td>\n",
       "      <td>212</td>\n",
       "    </tr>\n",
       "    <tr>\n",
       "      <th>2</th>\n",
       "      <td>1</td>\n",
       "      <td>Cyprus</td>\n",
       "      <td>8</td>\n",
       "    </tr>\n",
       "    <tr>\n",
       "      <th>3</th>\n",
       "      <td>1</td>\n",
       "      <td>Estonia</td>\n",
       "      <td>18</td>\n",
       "    </tr>\n",
       "    <tr>\n",
       "      <th>4</th>\n",
       "      <td>1</td>\n",
       "      <td>Finland</td>\n",
       "      <td>98</td>\n",
       "    </tr>\n",
       "    <tr>\n",
       "      <th>5</th>\n",
       "      <td>1</td>\n",
       "      <td>Kazakhstan</td>\n",
       "      <td>201</td>\n",
       "    </tr>\n",
       "    <tr>\n",
       "      <th>6</th>\n",
       "      <td>1</td>\n",
       "      <td>Latvia</td>\n",
       "      <td>10</td>\n",
       "    </tr>\n",
       "    <tr>\n",
       "      <th>7</th>\n",
       "      <td>1</td>\n",
       "      <td>Russia</td>\n",
       "      <td>8855</td>\n",
       "    </tr>\n",
       "    <tr>\n",
       "      <th>8</th>\n",
       "      <td>1</td>\n",
       "      <td>Switzerland</td>\n",
       "      <td>8</td>\n",
       "    </tr>\n",
       "    <tr>\n",
       "      <th>9</th>\n",
       "      <td>1</td>\n",
       "      <td>Turkey</td>\n",
       "      <td>78</td>\n",
       "    </tr>\n",
       "    <tr>\n",
       "      <th>10</th>\n",
       "      <td>1</td>\n",
       "      <td>Ukraine</td>\n",
       "      <td>501</td>\n",
       "    </tr>\n",
       "    <tr>\n",
       "      <th>11</th>\n",
       "      <td>2</td>\n",
       "      <td>Azerbaijan</td>\n",
       "      <td>110</td>\n",
       "    </tr>\n",
       "    <tr>\n",
       "      <th>12</th>\n",
       "      <td>2</td>\n",
       "      <td>Belarus</td>\n",
       "      <td>204</td>\n",
       "    </tr>\n",
       "    <tr>\n",
       "      <th>13</th>\n",
       "      <td>2</td>\n",
       "      <td>Cyprus</td>\n",
       "      <td>12</td>\n",
       "    </tr>\n",
       "    <tr>\n",
       "      <th>14</th>\n",
       "      <td>2</td>\n",
       "      <td>Estonia</td>\n",
       "      <td>8</td>\n",
       "    </tr>\n",
       "    <tr>\n",
       "      <th>15</th>\n",
       "      <td>2</td>\n",
       "      <td>Finland</td>\n",
       "      <td>108</td>\n",
       "    </tr>\n",
       "    <tr>\n",
       "      <th>16</th>\n",
       "      <td>2</td>\n",
       "      <td>Kazakhstan</td>\n",
       "      <td>196</td>\n",
       "    </tr>\n",
       "    <tr>\n",
       "      <th>17</th>\n",
       "      <td>2</td>\n",
       "      <td>Latvia</td>\n",
       "      <td>7</td>\n",
       "    </tr>\n",
       "    <tr>\n",
       "      <th>18</th>\n",
       "      <td>2</td>\n",
       "      <td>Russia</td>\n",
       "      <td>8731</td>\n",
       "    </tr>\n",
       "    <tr>\n",
       "      <th>19</th>\n",
       "      <td>2</td>\n",
       "      <td>Switzerland</td>\n",
       "      <td>10</td>\n",
       "    </tr>\n",
       "    <tr>\n",
       "      <th>20</th>\n",
       "      <td>2</td>\n",
       "      <td>Turkey</td>\n",
       "      <td>82</td>\n",
       "    </tr>\n",
       "    <tr>\n",
       "      <th>21</th>\n",
       "      <td>2</td>\n",
       "      <td>Ukraine</td>\n",
       "      <td>484</td>\n",
       "    </tr>\n",
       "  </tbody>\n",
       "</table>\n",
       "</div>"
      ],
      "text/plain": [
       "    exp_group      country  user_id\n",
       "0           1   Azerbaijan       90\n",
       "1           1      Belarus      212\n",
       "2           1       Cyprus        8\n",
       "3           1      Estonia       18\n",
       "4           1      Finland       98\n",
       "5           1   Kazakhstan      201\n",
       "6           1       Latvia       10\n",
       "7           1       Russia     8855\n",
       "8           1  Switzerland        8\n",
       "9           1       Turkey       78\n",
       "10          1      Ukraine      501\n",
       "11          2   Azerbaijan      110\n",
       "12          2      Belarus      204\n",
       "13          2       Cyprus       12\n",
       "14          2      Estonia        8\n",
       "15          2      Finland      108\n",
       "16          2   Kazakhstan      196\n",
       "17          2       Latvia        7\n",
       "18          2       Russia     8731\n",
       "19          2  Switzerland       10\n",
       "20          2       Turkey       82\n",
       "21          2      Ukraine      484"
      ]
     },
     "execution_count": 33,
     "metadata": {},
     "output_type": "execute_result"
    }
   ],
   "source": [
    "df2.groupby(['exp_group', 'country'], as_index = False).agg({'user_id':'count'})"
   ]
  },
  {
   "cell_type": "code",
   "execution_count": 34,
   "id": "719efcad-55a7-4de3-b240-22d5bd4ce7a5",
   "metadata": {},
   "outputs": [],
   "source": [
    "df4 = df2[(df2['exp_group'] == 2) & (df2['ctr'] < 0.2)]"
   ]
  },
  {
   "cell_type": "code",
   "execution_count": 35,
   "id": "4035828d-a4f7-4f51-956b-fac73b9924de",
   "metadata": {},
   "outputs": [
    {
     "data": {
      "text/plain": [
       "5486"
      ]
     },
     "execution_count": 35,
     "metadata": {},
     "output_type": "execute_result"
    }
   ],
   "source": [
    "df4.user_id.count()"
   ]
  },
  {
   "cell_type": "code",
   "execution_count": 36,
   "id": "e33092ed-efb6-4641-8c30-8ffb178d706c",
   "metadata": {},
   "outputs": [
    {
     "data": {
      "text/html": [
       "<div>\n",
       "<style scoped>\n",
       "    .dataframe tbody tr th:only-of-type {\n",
       "        vertical-align: middle;\n",
       "    }\n",
       "\n",
       "    .dataframe tbody tr th {\n",
       "        vertical-align: top;\n",
       "    }\n",
       "\n",
       "    .dataframe thead th {\n",
       "        text-align: right;\n",
       "    }\n",
       "</style>\n",
       "<table border=\"1\" class=\"dataframe\">\n",
       "  <thead>\n",
       "    <tr style=\"text-align: right;\">\n",
       "      <th></th>\n",
       "      <th>exp_group</th>\n",
       "      <th>user_id</th>\n",
       "      <th>likes</th>\n",
       "      <th>views</th>\n",
       "      <th>ctr</th>\n",
       "      <th>os</th>\n",
       "      <th>gender</th>\n",
       "      <th>source</th>\n",
       "      <th>country</th>\n",
       "      <th>city</th>\n",
       "    </tr>\n",
       "  </thead>\n",
       "  <tbody>\n",
       "    <tr>\n",
       "      <th>4</th>\n",
       "      <td>2</td>\n",
       "      <td>130139</td>\n",
       "      <td>6</td>\n",
       "      <td>78</td>\n",
       "      <td>0.076923</td>\n",
       "      <td>Android</td>\n",
       "      <td>0</td>\n",
       "      <td>organic</td>\n",
       "      <td>Russia</td>\n",
       "      <td>Krasnodar</td>\n",
       "    </tr>\n",
       "    <tr>\n",
       "      <th>5</th>\n",
       "      <td>2</td>\n",
       "      <td>137342</td>\n",
       "      <td>3</td>\n",
       "      <td>48</td>\n",
       "      <td>0.062500</td>\n",
       "      <td>Android</td>\n",
       "      <td>1</td>\n",
       "      <td>organic</td>\n",
       "      <td>Russia</td>\n",
       "      <td>Omsk</td>\n",
       "    </tr>\n",
       "    <tr>\n",
       "      <th>31</th>\n",
       "      <td>2</td>\n",
       "      <td>111829</td>\n",
       "      <td>11</td>\n",
       "      <td>95</td>\n",
       "      <td>0.115789</td>\n",
       "      <td>Android</td>\n",
       "      <td>0</td>\n",
       "      <td>organic</td>\n",
       "      <td>Russia</td>\n",
       "      <td>Vysokovsk</td>\n",
       "    </tr>\n",
       "    <tr>\n",
       "      <th>35</th>\n",
       "      <td>2</td>\n",
       "      <td>31955</td>\n",
       "      <td>11</td>\n",
       "      <td>80</td>\n",
       "      <td>0.137500</td>\n",
       "      <td>iOS</td>\n",
       "      <td>1</td>\n",
       "      <td>ads</td>\n",
       "      <td>Russia</td>\n",
       "      <td>Rostov</td>\n",
       "    </tr>\n",
       "    <tr>\n",
       "      <th>38</th>\n",
       "      <td>2</td>\n",
       "      <td>23964</td>\n",
       "      <td>9</td>\n",
       "      <td>87</td>\n",
       "      <td>0.103448</td>\n",
       "      <td>iOS</td>\n",
       "      <td>0</td>\n",
       "      <td>ads</td>\n",
       "      <td>Russia</td>\n",
       "      <td>Saratov</td>\n",
       "    </tr>\n",
       "  </tbody>\n",
       "</table>\n",
       "</div>"
      ],
      "text/plain": [
       "    exp_group  user_id  likes  views       ctr       os  gender   source  \\\n",
       "4           2   130139      6     78  0.076923  Android       0  organic   \n",
       "5           2   137342      3     48  0.062500  Android       1  organic   \n",
       "31          2   111829     11     95  0.115789  Android       0  organic   \n",
       "35          2    31955     11     80  0.137500      iOS       1      ads   \n",
       "38          2    23964      9     87  0.103448      iOS       0      ads   \n",
       "\n",
       "   country       city  \n",
       "4   Russia  Krasnodar  \n",
       "5   Russia       Omsk  \n",
       "31  Russia  Vysokovsk  \n",
       "35  Russia     Rostov  \n",
       "38  Russia    Saratov  "
      ]
     },
     "execution_count": 36,
     "metadata": {},
     "output_type": "execute_result"
    }
   ],
   "source": [
    "df4.head()"
   ]
  },
  {
   "cell_type": "code",
   "execution_count": 37,
   "id": "1f1fe3f2-97e8-4d81-bab2-3ab0d61d762f",
   "metadata": {},
   "outputs": [
    {
     "data": {
      "text/html": [
       "<div>\n",
       "<style scoped>\n",
       "    .dataframe tbody tr th:only-of-type {\n",
       "        vertical-align: middle;\n",
       "    }\n",
       "\n",
       "    .dataframe tbody tr th {\n",
       "        vertical-align: top;\n",
       "    }\n",
       "\n",
       "    .dataframe thead th {\n",
       "        text-align: right;\n",
       "    }\n",
       "</style>\n",
       "<table border=\"1\" class=\"dataframe\">\n",
       "  <thead>\n",
       "    <tr style=\"text-align: right;\">\n",
       "      <th></th>\n",
       "      <th>os</th>\n",
       "      <th>user_id</th>\n",
       "    </tr>\n",
       "  </thead>\n",
       "  <tbody>\n",
       "    <tr>\n",
       "      <th>0</th>\n",
       "      <td>Android</td>\n",
       "      <td>3477</td>\n",
       "    </tr>\n",
       "    <tr>\n",
       "      <th>1</th>\n",
       "      <td>iOS</td>\n",
       "      <td>2009</td>\n",
       "    </tr>\n",
       "  </tbody>\n",
       "</table>\n",
       "</div>"
      ],
      "text/plain": [
       "        os  user_id\n",
       "0  Android     3477\n",
       "1      iOS     2009"
      ]
     },
     "execution_count": 37,
     "metadata": {},
     "output_type": "execute_result"
    }
   ],
   "source": [
    "df4.groupby(['os'], as_index = False).agg({'user_id': 'count'})"
   ]
  },
  {
   "cell_type": "code",
   "execution_count": 38,
   "id": "5dc5c57e-dc69-4b94-941c-8827d996f95e",
   "metadata": {},
   "outputs": [
    {
     "data": {
      "text/html": [
       "<div>\n",
       "<style scoped>\n",
       "    .dataframe tbody tr th:only-of-type {\n",
       "        vertical-align: middle;\n",
       "    }\n",
       "\n",
       "    .dataframe tbody tr th {\n",
       "        vertical-align: top;\n",
       "    }\n",
       "\n",
       "    .dataframe thead th {\n",
       "        text-align: right;\n",
       "    }\n",
       "</style>\n",
       "<table border=\"1\" class=\"dataframe\">\n",
       "  <thead>\n",
       "    <tr style=\"text-align: right;\">\n",
       "      <th></th>\n",
       "      <th>source</th>\n",
       "      <th>user_id</th>\n",
       "    </tr>\n",
       "  </thead>\n",
       "  <tbody>\n",
       "    <tr>\n",
       "      <th>0</th>\n",
       "      <td>ads</td>\n",
       "      <td>2569</td>\n",
       "    </tr>\n",
       "    <tr>\n",
       "      <th>1</th>\n",
       "      <td>organic</td>\n",
       "      <td>2917</td>\n",
       "    </tr>\n",
       "  </tbody>\n",
       "</table>\n",
       "</div>"
      ],
      "text/plain": [
       "    source  user_id\n",
       "0      ads     2569\n",
       "1  organic     2917"
      ]
     },
     "execution_count": 38,
     "metadata": {},
     "output_type": "execute_result"
    }
   ],
   "source": [
    "df4.groupby(['source'], as_index = False).agg({'user_id': 'count'})"
   ]
  },
  {
   "cell_type": "code",
   "execution_count": 39,
   "id": "7ccc693d-7122-4bd1-8f20-853dc12ccfd6",
   "metadata": {},
   "outputs": [
    {
     "data": {
      "text/html": [
       "<div>\n",
       "<style scoped>\n",
       "    .dataframe tbody tr th:only-of-type {\n",
       "        vertical-align: middle;\n",
       "    }\n",
       "\n",
       "    .dataframe tbody tr th {\n",
       "        vertical-align: top;\n",
       "    }\n",
       "\n",
       "    .dataframe thead th {\n",
       "        text-align: right;\n",
       "    }\n",
       "</style>\n",
       "<table border=\"1\" class=\"dataframe\">\n",
       "  <thead>\n",
       "    <tr style=\"text-align: right;\">\n",
       "      <th></th>\n",
       "      <th>gender</th>\n",
       "      <th>user_id</th>\n",
       "    </tr>\n",
       "  </thead>\n",
       "  <tbody>\n",
       "    <tr>\n",
       "      <th>0</th>\n",
       "      <td>0</td>\n",
       "      <td>2428</td>\n",
       "    </tr>\n",
       "    <tr>\n",
       "      <th>1</th>\n",
       "      <td>1</td>\n",
       "      <td>3058</td>\n",
       "    </tr>\n",
       "  </tbody>\n",
       "</table>\n",
       "</div>"
      ],
      "text/plain": [
       "   gender  user_id\n",
       "0       0     2428\n",
       "1       1     3058"
      ]
     },
     "execution_count": 39,
     "metadata": {},
     "output_type": "execute_result"
    }
   ],
   "source": [
    "df4.groupby(['gender'], as_index = False).agg({'user_id': 'count'})"
   ]
  },
  {
   "cell_type": "code",
   "execution_count": 40,
   "id": "6a4e8332-97f5-4a25-b686-0b5c036734c6",
   "metadata": {},
   "outputs": [
    {
     "data": {
      "text/html": [
       "<div>\n",
       "<style scoped>\n",
       "    .dataframe tbody tr th:only-of-type {\n",
       "        vertical-align: middle;\n",
       "    }\n",
       "\n",
       "    .dataframe tbody tr th {\n",
       "        vertical-align: top;\n",
       "    }\n",
       "\n",
       "    .dataframe thead th {\n",
       "        text-align: right;\n",
       "    }\n",
       "</style>\n",
       "<table border=\"1\" class=\"dataframe\">\n",
       "  <thead>\n",
       "    <tr style=\"text-align: right;\">\n",
       "      <th></th>\n",
       "      <th>city</th>\n",
       "      <th>user_id</th>\n",
       "    </tr>\n",
       "  </thead>\n",
       "  <tbody>\n",
       "    <tr>\n",
       "      <th>438</th>\n",
       "      <td>Moscow</td>\n",
       "      <td>753</td>\n",
       "    </tr>\n",
       "    <tr>\n",
       "      <th>616</th>\n",
       "      <td>Saint Petersburg</td>\n",
       "      <td>230</td>\n",
       "    </tr>\n",
       "    <tr>\n",
       "      <th>605</th>\n",
       "      <td>Rostov</td>\n",
       "      <td>72</td>\n",
       "    </tr>\n",
       "    <tr>\n",
       "      <th>501</th>\n",
       "      <td>Novosibirsk</td>\n",
       "      <td>66</td>\n",
       "    </tr>\n",
       "    <tr>\n",
       "      <th>861</th>\n",
       "      <td>Yekaterinburg</td>\n",
       "      <td>64</td>\n",
       "    </tr>\n",
       "    <tr>\n",
       "      <th>...</th>\n",
       "      <td>...</td>\n",
       "      <td>...</td>\n",
       "    </tr>\n",
       "    <tr>\n",
       "      <th>582</th>\n",
       "      <td>Privolzhsk</td>\n",
       "      <td>1</td>\n",
       "    </tr>\n",
       "    <tr>\n",
       "      <th>581</th>\n",
       "      <td>Privolnoye</td>\n",
       "      <td>1</td>\n",
       "    </tr>\n",
       "    <tr>\n",
       "      <th>255</th>\n",
       "      <td>Kartaly</td>\n",
       "      <td>1</td>\n",
       "    </tr>\n",
       "    <tr>\n",
       "      <th>579</th>\n",
       "      <td>Primorsko-Akhtarsk</td>\n",
       "      <td>1</td>\n",
       "    </tr>\n",
       "    <tr>\n",
       "      <th>455</th>\n",
       "      <td>Nazarovo</td>\n",
       "      <td>1</td>\n",
       "    </tr>\n",
       "  </tbody>\n",
       "</table>\n",
       "<p>911 rows × 2 columns</p>\n",
       "</div>"
      ],
      "text/plain": [
       "                   city  user_id\n",
       "438              Moscow      753\n",
       "616    Saint Petersburg      230\n",
       "605              Rostov       72\n",
       "501         Novosibirsk       66\n",
       "861       Yekaterinburg       64\n",
       "..                  ...      ...\n",
       "582          Privolzhsk        1\n",
       "581          Privolnoye        1\n",
       "255             Kartaly        1\n",
       "579  Primorsko-Akhtarsk        1\n",
       "455            Nazarovo        1\n",
       "\n",
       "[911 rows x 2 columns]"
      ]
     },
     "execution_count": 40,
     "metadata": {},
     "output_type": "execute_result"
    }
   ],
   "source": [
    "df4[df4['country'] == 'Russia'].groupby(['city'], as_index = False).agg({'user_id': 'count'}).sort_values(by='user_id', ascending=False)"
   ]
  },
  {
   "cell_type": "code",
   "execution_count": 41,
   "id": "e8255cea-34d4-47dc-8d26-c251436e6f5d",
   "metadata": {},
   "outputs": [],
   "source": [
    "df5 = df2[(df2['exp_group'] == 2) & (df2['ctr'] >= 0.2)]"
   ]
  },
  {
   "cell_type": "code",
   "execution_count": 42,
   "id": "7d19d508-e1f3-43be-a2ea-b54a76afa143",
   "metadata": {},
   "outputs": [
    {
     "data": {
      "text/plain": [
       "4466"
      ]
     },
     "execution_count": 42,
     "metadata": {},
     "output_type": "execute_result"
    }
   ],
   "source": [
    "df5.user_id.count()"
   ]
  },
  {
   "cell_type": "code",
   "execution_count": 43,
   "id": "21b9f93b-1597-4c59-a732-06121217365a",
   "metadata": {},
   "outputs": [
    {
     "data": {
      "text/html": [
       "<div>\n",
       "<style scoped>\n",
       "    .dataframe tbody tr th:only-of-type {\n",
       "        vertical-align: middle;\n",
       "    }\n",
       "\n",
       "    .dataframe tbody tr th {\n",
       "        vertical-align: top;\n",
       "    }\n",
       "\n",
       "    .dataframe thead th {\n",
       "        text-align: right;\n",
       "    }\n",
       "</style>\n",
       "<table border=\"1\" class=\"dataframe\">\n",
       "  <thead>\n",
       "    <tr style=\"text-align: right;\">\n",
       "      <th></th>\n",
       "      <th>os</th>\n",
       "      <th>user_id</th>\n",
       "    </tr>\n",
       "  </thead>\n",
       "  <tbody>\n",
       "    <tr>\n",
       "      <th>0</th>\n",
       "      <td>Android</td>\n",
       "      <td>2932</td>\n",
       "    </tr>\n",
       "    <tr>\n",
       "      <th>1</th>\n",
       "      <td>iOS</td>\n",
       "      <td>1534</td>\n",
       "    </tr>\n",
       "  </tbody>\n",
       "</table>\n",
       "</div>"
      ],
      "text/plain": [
       "        os  user_id\n",
       "0  Android     2932\n",
       "1      iOS     1534"
      ]
     },
     "execution_count": 43,
     "metadata": {},
     "output_type": "execute_result"
    }
   ],
   "source": [
    "df5.groupby(['os'], as_index = False).agg({'user_id': 'count'})"
   ]
  },
  {
   "cell_type": "code",
   "execution_count": 44,
   "id": "15484f4f-da66-4771-9bed-365a9cf27187",
   "metadata": {},
   "outputs": [
    {
     "data": {
      "text/html": [
       "<div>\n",
       "<style scoped>\n",
       "    .dataframe tbody tr th:only-of-type {\n",
       "        vertical-align: middle;\n",
       "    }\n",
       "\n",
       "    .dataframe tbody tr th {\n",
       "        vertical-align: top;\n",
       "    }\n",
       "\n",
       "    .dataframe thead th {\n",
       "        text-align: right;\n",
       "    }\n",
       "</style>\n",
       "<table border=\"1\" class=\"dataframe\">\n",
       "  <thead>\n",
       "    <tr style=\"text-align: right;\">\n",
       "      <th></th>\n",
       "      <th>source</th>\n",
       "      <th>user_id</th>\n",
       "    </tr>\n",
       "  </thead>\n",
       "  <tbody>\n",
       "    <tr>\n",
       "      <th>0</th>\n",
       "      <td>ads</td>\n",
       "      <td>2125</td>\n",
       "    </tr>\n",
       "    <tr>\n",
       "      <th>1</th>\n",
       "      <td>organic</td>\n",
       "      <td>2341</td>\n",
       "    </tr>\n",
       "  </tbody>\n",
       "</table>\n",
       "</div>"
      ],
      "text/plain": [
       "    source  user_id\n",
       "0      ads     2125\n",
       "1  organic     2341"
      ]
     },
     "execution_count": 44,
     "metadata": {},
     "output_type": "execute_result"
    }
   ],
   "source": [
    "df5.groupby(['source'], as_index = False).agg({'user_id': 'count'})"
   ]
  },
  {
   "cell_type": "code",
   "execution_count": 45,
   "id": "28fff4ca-47ad-44b0-938d-b0d5598570d2",
   "metadata": {},
   "outputs": [
    {
     "data": {
      "text/html": [
       "<div>\n",
       "<style scoped>\n",
       "    .dataframe tbody tr th:only-of-type {\n",
       "        vertical-align: middle;\n",
       "    }\n",
       "\n",
       "    .dataframe tbody tr th {\n",
       "        vertical-align: top;\n",
       "    }\n",
       "\n",
       "    .dataframe thead th {\n",
       "        text-align: right;\n",
       "    }\n",
       "</style>\n",
       "<table border=\"1\" class=\"dataframe\">\n",
       "  <thead>\n",
       "    <tr style=\"text-align: right;\">\n",
       "      <th></th>\n",
       "      <th>gender</th>\n",
       "      <th>user_id</th>\n",
       "    </tr>\n",
       "  </thead>\n",
       "  <tbody>\n",
       "    <tr>\n",
       "      <th>0</th>\n",
       "      <td>0</td>\n",
       "      <td>2017</td>\n",
       "    </tr>\n",
       "    <tr>\n",
       "      <th>1</th>\n",
       "      <td>1</td>\n",
       "      <td>2449</td>\n",
       "    </tr>\n",
       "  </tbody>\n",
       "</table>\n",
       "</div>"
      ],
      "text/plain": [
       "   gender  user_id\n",
       "0       0     2017\n",
       "1       1     2449"
      ]
     },
     "execution_count": 45,
     "metadata": {},
     "output_type": "execute_result"
    }
   ],
   "source": [
    "df5.groupby(['gender'], as_index = False).agg({'user_id': 'count'})"
   ]
  },
  {
   "cell_type": "code",
   "execution_count": 46,
   "id": "15950b55-e545-46f3-ae02-ceadda0c3a37",
   "metadata": {},
   "outputs": [
    {
     "data": {
      "text/html": [
       "<div>\n",
       "<style scoped>\n",
       "    .dataframe tbody tr th:only-of-type {\n",
       "        vertical-align: middle;\n",
       "    }\n",
       "\n",
       "    .dataframe tbody tr th {\n",
       "        vertical-align: top;\n",
       "    }\n",
       "\n",
       "    .dataframe thead th {\n",
       "        text-align: right;\n",
       "    }\n",
       "</style>\n",
       "<table border=\"1\" class=\"dataframe\">\n",
       "  <thead>\n",
       "    <tr style=\"text-align: right;\">\n",
       "      <th></th>\n",
       "      <th>city</th>\n",
       "      <th>user_id</th>\n",
       "    </tr>\n",
       "  </thead>\n",
       "  <tbody>\n",
       "    <tr>\n",
       "      <th>400</th>\n",
       "      <td>Moscow</td>\n",
       "      <td>599</td>\n",
       "    </tr>\n",
       "    <tr>\n",
       "      <th>544</th>\n",
       "      <td>Saint Petersburg</td>\n",
       "      <td>212</td>\n",
       "    </tr>\n",
       "    <tr>\n",
       "      <th>752</th>\n",
       "      <td>Yekaterinburg</td>\n",
       "      <td>65</td>\n",
       "    </tr>\n",
       "    <tr>\n",
       "      <th>449</th>\n",
       "      <td>Novosibirsk</td>\n",
       "      <td>50</td>\n",
       "    </tr>\n",
       "    <tr>\n",
       "      <th>493</th>\n",
       "      <td>Perm</td>\n",
       "      <td>46</td>\n",
       "    </tr>\n",
       "    <tr>\n",
       "      <th>...</th>\n",
       "      <td>...</td>\n",
       "      <td>...</td>\n",
       "    </tr>\n",
       "    <tr>\n",
       "      <th>345</th>\n",
       "      <td>Laishevo</td>\n",
       "      <td>1</td>\n",
       "    </tr>\n",
       "    <tr>\n",
       "      <th>341</th>\n",
       "      <td>Kuznetsovo</td>\n",
       "      <td>1</td>\n",
       "    </tr>\n",
       "    <tr>\n",
       "      <th>337</th>\n",
       "      <td>Kuterem</td>\n",
       "      <td>1</td>\n",
       "    </tr>\n",
       "    <tr>\n",
       "      <th>336</th>\n",
       "      <td>Kushva</td>\n",
       "      <td>1</td>\n",
       "    </tr>\n",
       "    <tr>\n",
       "      <th>798</th>\n",
       "      <td>Zyazikov</td>\n",
       "      <td>1</td>\n",
       "    </tr>\n",
       "  </tbody>\n",
       "</table>\n",
       "<p>799 rows × 2 columns</p>\n",
       "</div>"
      ],
      "text/plain": [
       "                 city  user_id\n",
       "400            Moscow      599\n",
       "544  Saint Petersburg      212\n",
       "752     Yekaterinburg       65\n",
       "449       Novosibirsk       50\n",
       "493              Perm       46\n",
       "..                ...      ...\n",
       "345          Laishevo        1\n",
       "341        Kuznetsovo        1\n",
       "337           Kuterem        1\n",
       "336            Kushva        1\n",
       "798          Zyazikov        1\n",
       "\n",
       "[799 rows x 2 columns]"
      ]
     },
     "execution_count": 46,
     "metadata": {},
     "output_type": "execute_result"
    }
   ],
   "source": [
    "df5[df5['country'] == 'Russia'].groupby(['city'], as_index = False).agg({'user_id': 'count'}).sort_values(by='user_id', ascending=False)"
   ]
  },
  {
   "cell_type": "markdown",
   "id": "c9c2cc4d-6aac-48a2-8cd5-f4f20813d8d6",
   "metadata": {},
   "source": [
    "**Just in case, it was checked that the splitting system works correctly and the CTR distribution of the test group isn't caused of some external factors. Next, we check the change in CTR over time**"
   ]
  },
  {
   "cell_type": "code",
   "execution_count": 47,
   "id": "c74f8592-7619-497c-985c-21d16ed33a44",
   "metadata": {},
   "outputs": [],
   "source": [
    "\n",
    "q = \"\"\"\n",
    "SELECT toDate(time) as date,\n",
    "    exp_group,\n",
    "    user_id,\n",
    "    sum(action = 'like') as likes,\n",
    "    sum(action = 'view') as views,\n",
    "    likes/views as ctr,\n",
    "    os,\n",
    "    gender,\n",
    "    source,\n",
    "    country,\n",
    "    city\n",
    "FROM {db}.feed_actions \n",
    "WHERE toDate(time) between '2022-11-02' and '2022-11-08'\n",
    "    and exp_group in (1,2)\n",
    "GROUP BY date, exp_group, user_id, os, gender, source, country, city\n",
    "\"\"\"\n",
    "\n",
    "df6 = ph.read_clickhouse(q, connection=connection)\n"
   ]
  },
  {
   "cell_type": "code",
   "execution_count": 48,
   "id": "b007a89e-7526-4bf8-8a53-2f70ea1753ba",
   "metadata": {},
   "outputs": [
    {
     "data": {
      "text/html": [
       "<div>\n",
       "<style scoped>\n",
       "    .dataframe tbody tr th:only-of-type {\n",
       "        vertical-align: middle;\n",
       "    }\n",
       "\n",
       "    .dataframe tbody tr th {\n",
       "        vertical-align: top;\n",
       "    }\n",
       "\n",
       "    .dataframe thead th {\n",
       "        text-align: right;\n",
       "    }\n",
       "</style>\n",
       "<table border=\"1\" class=\"dataframe\">\n",
       "  <thead>\n",
       "    <tr style=\"text-align: right;\">\n",
       "      <th></th>\n",
       "      <th>date</th>\n",
       "      <th>exp_group</th>\n",
       "      <th>user_id</th>\n",
       "      <th>likes</th>\n",
       "      <th>views</th>\n",
       "      <th>ctr</th>\n",
       "      <th>os</th>\n",
       "      <th>gender</th>\n",
       "      <th>source</th>\n",
       "      <th>country</th>\n",
       "      <th>city</th>\n",
       "    </tr>\n",
       "  </thead>\n",
       "  <tbody>\n",
       "    <tr>\n",
       "      <th>0</th>\n",
       "      <td>2022-11-02</td>\n",
       "      <td>1</td>\n",
       "      <td>22354</td>\n",
       "      <td>5</td>\n",
       "      <td>11</td>\n",
       "      <td>0.454545</td>\n",
       "      <td>Android</td>\n",
       "      <td>0</td>\n",
       "      <td>ads</td>\n",
       "      <td>Russia</td>\n",
       "      <td>Bataysk</td>\n",
       "    </tr>\n",
       "    <tr>\n",
       "      <th>1</th>\n",
       "      <td>2022-11-03</td>\n",
       "      <td>2</td>\n",
       "      <td>7633</td>\n",
       "      <td>7</td>\n",
       "      <td>44</td>\n",
       "      <td>0.159091</td>\n",
       "      <td>Android</td>\n",
       "      <td>0</td>\n",
       "      <td>ads</td>\n",
       "      <td>Russia</td>\n",
       "      <td>Michurinsk</td>\n",
       "    </tr>\n",
       "    <tr>\n",
       "      <th>2</th>\n",
       "      <td>2022-11-05</td>\n",
       "      <td>2</td>\n",
       "      <td>126328</td>\n",
       "      <td>3</td>\n",
       "      <td>12</td>\n",
       "      <td>0.250000</td>\n",
       "      <td>Android</td>\n",
       "      <td>1</td>\n",
       "      <td>organic</td>\n",
       "      <td>Russia</td>\n",
       "      <td>Moscow</td>\n",
       "    </tr>\n",
       "    <tr>\n",
       "      <th>3</th>\n",
       "      <td>2022-11-04</td>\n",
       "      <td>1</td>\n",
       "      <td>117643</td>\n",
       "      <td>7</td>\n",
       "      <td>39</td>\n",
       "      <td>0.179487</td>\n",
       "      <td>iOS</td>\n",
       "      <td>0</td>\n",
       "      <td>organic</td>\n",
       "      <td>Russia</td>\n",
       "      <td>Uryupinsk</td>\n",
       "    </tr>\n",
       "    <tr>\n",
       "      <th>4</th>\n",
       "      <td>2022-11-06</td>\n",
       "      <td>1</td>\n",
       "      <td>129919</td>\n",
       "      <td>3</td>\n",
       "      <td>19</td>\n",
       "      <td>0.157895</td>\n",
       "      <td>iOS</td>\n",
       "      <td>0</td>\n",
       "      <td>organic</td>\n",
       "      <td>Ukraine</td>\n",
       "      <td>Kyiv</td>\n",
       "    </tr>\n",
       "  </tbody>\n",
       "</table>\n",
       "</div>"
      ],
      "text/plain": [
       "        date  exp_group  user_id  likes  views       ctr       os  gender  \\\n",
       "0 2022-11-02          1    22354      5     11  0.454545  Android       0   \n",
       "1 2022-11-03          2     7633      7     44  0.159091  Android       0   \n",
       "2 2022-11-05          2   126328      3     12  0.250000  Android       1   \n",
       "3 2022-11-04          1   117643      7     39  0.179487      iOS       0   \n",
       "4 2022-11-06          1   129919      3     19  0.157895      iOS       0   \n",
       "\n",
       "    source  country        city  \n",
       "0      ads   Russia     Bataysk  \n",
       "1      ads   Russia  Michurinsk  \n",
       "2  organic   Russia      Moscow  \n",
       "3  organic   Russia   Uryupinsk  \n",
       "4  organic  Ukraine        Kyiv  "
      ]
     },
     "execution_count": 48,
     "metadata": {},
     "output_type": "execute_result"
    }
   ],
   "source": [
    "df6.head()"
   ]
  },
  {
   "cell_type": "code",
   "execution_count": 49,
   "id": "ce90f0c1-ce13-4681-8e78-adcf135e9a04",
   "metadata": {},
   "outputs": [
    {
     "data": {
      "text/plain": [
       "<AxesSubplot:xlabel='date', ylabel='ctr'>"
      ]
     },
     "execution_count": 49,
     "metadata": {},
     "output_type": "execute_result"
    },
    {
     "data": {
      "image/png": "[encoded data removed]",
      "text/plain": [
       "<Figure size 842.4x595.44 with 1 Axes>"
      ]
     },
     "metadata": {},
     "output_type": "display_data"
    }
   ],
   "source": [
    "sns.lineplot(data=df6, hue='exp_group', x='date', y='ctr', palette='mako')"
   ]
  },
  {
   "cell_type": "code",
   "execution_count": 51,
   "id": "b43fc042-9a5c-45fe-ab20-77920587da35",
   "metadata": {},
   "outputs": [
    {
     "data": {
      "image/png": "[encoded data removed]",
      "text/plain": [
       "<Figure size 842.4x595.44 with 1 Axes>"
      ]
     },
     "metadata": {},
     "output_type": "display_data"
    }
   ],
   "source": [
    "sns.set(rc={'figure.figsize':(11.7,8.27)})\n",
    "\n",
    "groups = sns.histplot(data = df6[(df6['exp_group'] == 2) & (df6['date'] < '2022-11-08')], \n",
    "              x='ctr', \n",
    "              hue='exp_group', \n",
    "              palette = 'mako',\n",
    "              alpha=0.5,\n",
    "              kde=False)"
   ]
  },
  {
   "cell_type": "code",
   "execution_count": 79,
   "id": "9632ed03-7bcf-40ec-b122-6f5e98b97e4d",
   "metadata": {},
   "outputs": [
    {
     "data": {
      "text/plain": [
       "0    0.0\n",
       "dtype: float64"
      ]
     },
     "execution_count": 79,
     "metadata": {},
     "output_type": "execute_result"
    }
   ],
   "source": [
    "df6[(df6['exp_group'] == 2) & (df6['date'] < '2022-11-08')].ctr.mode()"
   ]
  },
  {
   "cell_type": "code",
   "execution_count": 52,
   "id": "af0ec0d3-1701-4f7d-aa1e-74e3ac86fe25",
   "metadata": {},
   "outputs": [
    {
     "data": {
      "text/plain": [
       "0.1304347826086956"
      ]
     },
     "execution_count": 52,
     "metadata": {},
     "output_type": "execute_result"
    }
   ],
   "source": [
    "df6[(df6['exp_group'] == 2) & (df6['date'] < '2022-11-08')].ctr.median()"
   ]
  },
  {
   "cell_type": "code",
   "execution_count": 53,
   "id": "af6c9143-fd09-4d9c-9879-cebade806b29",
   "metadata": {},
   "outputs": [
    {
     "data": {
      "image/png": "[encoded data removed]",
      "text/plain": [
       "<Figure size 842.4x595.44 with 1 Axes>"
      ]
     },
     "metadata": {},
     "output_type": "display_data"
    }
   ],
   "source": [
    "sns.set(rc={'figure.figsize':(11.7,8.27)})\n",
    "\n",
    "groups = sns.histplot(data = df6[((df6['exp_group'] == 2) & (df6['date'] < '2022-11-09') & (df6['date'] >= '2022-11-08'))], \n",
    "              x='ctr', \n",
    "              hue='exp_group', \n",
    "              palette = 'mako',\n",
    "              alpha=0.5,\n",
    "              kde=False)"
   ]
  },
  {
   "cell_type": "code",
   "execution_count": 54,
   "id": "7e700682-b107-4933-930b-16a75617132a",
   "metadata": {},
   "outputs": [
    {
     "data": {
      "text/plain": [
       "0.21111843974601208"
      ]
     },
     "execution_count": 54,
     "metadata": {},
     "output_type": "execute_result"
    }
   ],
   "source": [
    "df6[(df6['exp_group'] == 2) & (df6['date'] < '2022-11-09') & (df6['date'] >= '2022-11-08')].ctr.mean()"
   ]
  },
  {
   "cell_type": "code",
   "execution_count": 80,
   "id": "fabd4a6f-fab1-4682-9edd-4ac17930f632",
   "metadata": {},
   "outputs": [
    {
     "data": {
      "text/plain": [
       "0    0.2\n",
       "dtype: float64"
      ]
     },
     "execution_count": 80,
     "metadata": {},
     "output_type": "execute_result"
    }
   ],
   "source": [
    "df6[((df6['exp_group'] == 2) & (df6['date'] < '2022-11-09') & (df6['date'] >= '2022-11-08'))].ctr.mode()"
   ]
  },
  {
   "cell_type": "code",
   "execution_count": 55,
   "id": "216b2ff0-a82b-4a25-a7d6-466a857c90e6",
   "metadata": {},
   "outputs": [
    {
     "data": {
      "text/plain": [
       "0.2"
      ]
     },
     "execution_count": 55,
     "metadata": {},
     "output_type": "execute_result"
    }
   ],
   "source": [
    "df6[((df6['exp_group'] == 2) & (df6['date'] < '2022-11-09') & (df6['date'] >= '2022-11-08'))].ctr.median()"
   ]
  },
  {
   "cell_type": "code",
   "execution_count": 56,
   "id": "b03055f3-9eaf-4d98-ba07-42f1f4c4d99c",
   "metadata": {},
   "outputs": [
    {
     "data": {
      "text/plain": [
       "<AxesSubplot:xlabel='date', ylabel='ctr'>"
      ]
     },
     "execution_count": 56,
     "metadata": {},
     "output_type": "execute_result"
    },
    {
     "data": {
      "image/png": "[encoded data removed]",
      "text/plain": [
       "<Figure size 842.4x595.44 with 1 Axes>"
      ]
     },
     "metadata": {},
     "output_type": "display_data"
    }
   ],
   "source": [
    "sns.lineplot(data=df6[(df6['exp_group'] == 2) & (df6['ctr'] < 0.2)], x='date', y='ctr', hue='exp_group', palette='mako')"
   ]
  },
  {
   "cell_type": "code",
   "execution_count": 57,
   "id": "70b9c2d1-7086-4870-a2d2-ddb5c63ca67c",
   "metadata": {},
   "outputs": [
    {
     "data": {
      "text/plain": [
       "<AxesSubplot:xlabel='date', ylabel='ctr'>"
      ]
     },
     "execution_count": 57,
     "metadata": {},
     "output_type": "execute_result"
    },
    {
     "data": {
      "image/png": "[encoded data removed]",
      "text/plain": [
       "<Figure size 842.4x595.44 with 1 Axes>"
      ]
     },
     "metadata": {},
     "output_type": "display_data"
    }
   ],
   "source": [
    "sns.lineplot(data=df6[(df6['exp_group'] == 2) & (df6['ctr'] > 0.2)], x='date', y='ctr', hue='exp_group', palette='mako')"
   ]
  },
  {
   "cell_type": "markdown",
   "id": "d1701805-8007-4821-878c-62afcb459045",
   "metadata": {},
   "source": [
    "**The following pattern of change in the distribution of CTR in the test group was obtained: from November 2 to November 7, 2022, CTRs have a bimodal distribution with the first mode close to 0, and on November 8, 2022, CTRs have a unimodal distribution with a mode of 0.2. External factors that could affect the test group were not identified. <br>\n",
    "The presumed reason for this may be that the post recommendation algorithm needs a learning period to work correctly, after which it starts to issue better recommendations based on user preferences**"
   ]
  },
  {
   "cell_type": "markdown",
   "id": "1bd468df-7e59-492e-bec2-7353ad52b652",
   "metadata": {},
   "source": [
    "**Conclusion: At the moment it is not recommended to implement the recommendation algorithm to all users, because we cannot be sure that it will not worsen the CTR metric in the long term (or that it will eventually increase the CTR at all). It is recommended to repeat the test for a longer period of time (for example, 2 weeks)**"
   ]
  },
  {
   "cell_type": "code",
   "execution_count": null,
   "id": "51db2bf7",
   "metadata": {},
   "outputs": [],
   "source": []
  }
 ],
 "metadata": {
  "kernelspec": {
   "display_name": "Python 3 (ipykernel)",
   "language": "python",
   "name": "python3"
  },
  "language_info": {
   "codemirror_mode": {
    "name": "ipython",
    "version": 3
   },
   "file_extension": ".py",
   "mimetype": "text/x-python",
   "name": "python",
   "nbconvert_exporter": "python",
   "pygments_lexer": "ipython3",
   "version": "3.9.12"
  }
 },
 "nbformat": 4,
 "nbformat_minor": 5
}
