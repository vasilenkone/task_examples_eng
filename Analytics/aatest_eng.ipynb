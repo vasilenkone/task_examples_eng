{
 "cells": [
  {
   "cell_type": "markdown",
   "id": "363eeac8-231c-4ac5-a055-717dd88f23ef",
   "metadata": {},
   "source": [
    "**Task: to check the correctness of the splitting system by conducting 10,000 comparisons of subsamples from the compared user groups №2 and №3**"
   ]
  },
  {
   "cell_type": "code",
   "execution_count": 1,
   "id": "d3307828-4471-420e-8ebd-c68c7bc4aa56",
   "metadata": {},
   "outputs": [],
   "source": [
    "import pandas as pd\n",
    "import pandahouse as ph\n",
    "import seaborn as sns\n",
    "import numpy as np\n",
    "from scipy.stats import mannwhitneyu\n",
    "from scipy.stats import ttest_ind\n",
    "from scipy.stats import norm\n",
    "from scipy import stats\n",
    "import matplotlib.pyplot as plt\n",
    "import hashlib\n",
    "from tqdm.auto import tqdm"
   ]
  },
  {
   "cell_type": "markdown",
   "id": "a1b50469-ac66-431e-9ae0-48c29284fb21",
   "metadata": {},
   "source": [
    "**Taking CTR for group 2 and 3 from database for the period: 2022-10-26 - 2022-11-01**"
   ]
  },
  {
   "cell_type": "code",
   "execution_count": 2,
   "id": "dd89b314-c48b-49d2-bbe3-e42e40dcb2fd",
   "metadata": {},
   "outputs": [],
   "source": [
    "connection = {'host': 'https://clickhouse.lab.karpov.courses',\n",
    "                      'database':'simulator_20221120',\n",
    "                      'user':'', \n",
    "                      'password':\n",
    "                     }"
   ]
  },
  {
   "cell_type": "code",
   "execution_count": 3,
   "id": "d0ebc281-449a-45b0-b0ef-753d1df4be42",
   "metadata": {},
   "outputs": [
    {
     "data": {
      "text/html": [
       "<div>\n",
       "<style scoped>\n",
       "    .dataframe tbody tr th:only-of-type {\n",
       "        vertical-align: middle;\n",
       "    }\n",
       "\n",
       "    .dataframe tbody tr th {\n",
       "        vertical-align: top;\n",
       "    }\n",
       "\n",
       "    .dataframe thead th {\n",
       "        text-align: right;\n",
       "    }\n",
       "</style>\n",
       "<table border=\"1\" class=\"dataframe\">\n",
       "  <thead>\n",
       "    <tr style=\"text-align: right;\">\n",
       "      <th></th>\n",
       "      <th>exp_group</th>\n",
       "      <th>user_id</th>\n",
       "      <th>likes</th>\n",
       "      <th>views</th>\n",
       "      <th>ctr</th>\n",
       "    </tr>\n",
       "  </thead>\n",
       "  <tbody>\n",
       "    <tr>\n",
       "      <th>0</th>\n",
       "      <td>3</td>\n",
       "      <td>115383</td>\n",
       "      <td>4</td>\n",
       "      <td>9</td>\n",
       "      <td>0.444444</td>\n",
       "    </tr>\n",
       "    <tr>\n",
       "      <th>1</th>\n",
       "      <td>3</td>\n",
       "      <td>10326</td>\n",
       "      <td>19</td>\n",
       "      <td>65</td>\n",
       "      <td>0.292308</td>\n",
       "    </tr>\n",
       "    <tr>\n",
       "      <th>2</th>\n",
       "      <td>3</td>\n",
       "      <td>123580</td>\n",
       "      <td>3</td>\n",
       "      <td>23</td>\n",
       "      <td>0.130435</td>\n",
       "    </tr>\n",
       "    <tr>\n",
       "      <th>3</th>\n",
       "      <td>2</td>\n",
       "      <td>131473</td>\n",
       "      <td>2</td>\n",
       "      <td>13</td>\n",
       "      <td>0.153846</td>\n",
       "    </tr>\n",
       "    <tr>\n",
       "      <th>4</th>\n",
       "      <td>2</td>\n",
       "      <td>23985</td>\n",
       "      <td>0</td>\n",
       "      <td>11</td>\n",
       "      <td>0.000000</td>\n",
       "    </tr>\n",
       "  </tbody>\n",
       "</table>\n",
       "</div>"
      ],
      "text/plain": [
       "   exp_group  user_id  likes  views       ctr\n",
       "0          3   115383      4      9  0.444444\n",
       "1          3    10326     19     65  0.292308\n",
       "2          3   123580      3     23  0.130435\n",
       "3          2   131473      2     13  0.153846\n",
       "4          2    23985      0     11  0.000000"
      ]
     },
     "execution_count": 3,
     "metadata": {},
     "output_type": "execute_result"
    }
   ],
   "source": [
    "query = \"\"\"\n",
    "\n",
    "\n",
    "SELECT exp_group, \n",
    "    user_id,\n",
    "    sum(action = 'like') as likes,\n",
    "    sum(action = 'view') as views,\n",
    "    likes/views as ctr\n",
    "FROM {db}.feed_actions \n",
    "WHERE toDate(time) between '2022-10-26' and '2022-11-01'\n",
    "    and exp_group in (2,3)\n",
    "GROUP BY exp_group, user_id\n",
    "\n",
    "\"\"\"\n",
    "\n",
    "\n",
    "df = ph.read_clickhouse(query, connection=connection)\n",
    "df.head()\n"
   ]
  },
  {
   "cell_type": "markdown",
   "id": "666ef7c9-f66f-49f6-bc3e-653aeb0ff183",
   "metadata": {},
   "source": [
    "**To be sure, we check that the number of users in the groups is approximately the same and there is no statistically significant difference in the CTR distributions of the two groups**"
   ]
  },
  {
   "cell_type": "code",
   "execution_count": 4,
   "id": "7ef25f23-e825-496a-a7ff-4c3d68ffe0a4",
   "metadata": {},
   "outputs": [
    {
     "data": {
      "text/html": [
       "<div>\n",
       "<style scoped>\n",
       "    .dataframe tbody tr th:only-of-type {\n",
       "        vertical-align: middle;\n",
       "    }\n",
       "\n",
       "    .dataframe tbody tr th {\n",
       "        vertical-align: top;\n",
       "    }\n",
       "\n",
       "    .dataframe thead th {\n",
       "        text-align: right;\n",
       "    }\n",
       "</style>\n",
       "<table border=\"1\" class=\"dataframe\">\n",
       "  <thead>\n",
       "    <tr style=\"text-align: right;\">\n",
       "      <th></th>\n",
       "      <th>exp_group</th>\n",
       "      <th>user_id</th>\n",
       "      <th>likes</th>\n",
       "      <th>views</th>\n",
       "      <th>ctr</th>\n",
       "    </tr>\n",
       "  </thead>\n",
       "  <tbody>\n",
       "    <tr>\n",
       "      <th>0</th>\n",
       "      <td>2</td>\n",
       "      <td>14467</td>\n",
       "      <td>14467</td>\n",
       "      <td>14467</td>\n",
       "      <td>14467</td>\n",
       "    </tr>\n",
       "    <tr>\n",
       "      <th>1</th>\n",
       "      <td>3</td>\n",
       "      <td>14620</td>\n",
       "      <td>14620</td>\n",
       "      <td>14620</td>\n",
       "      <td>14620</td>\n",
       "    </tr>\n",
       "  </tbody>\n",
       "</table>\n",
       "</div>"
      ],
      "text/plain": [
       "   exp_group  user_id  likes  views    ctr\n",
       "0          2    14467  14467  14467  14467\n",
       "1          3    14620  14620  14620  14620"
      ]
     },
     "execution_count": 4,
     "metadata": {},
     "output_type": "execute_result"
    }
   ],
   "source": [
    "df.groupby('exp_group', as_index = False).count()"
   ]
  },
  {
   "cell_type": "code",
   "execution_count": 5,
   "id": "8d7bb857-0b36-4204-a575-7ed68d5567b5",
   "metadata": {},
   "outputs": [
    {
     "data": {
      "image/png": "[encoded data removed]",
      "text/plain": [
       "<Figure size 842.4x595.44 with 1 Axes>"
      ]
     },
     "metadata": {},
     "output_type": "display_data"
    }
   ],
   "source": [
    "sns.set(rc={'figure.figsize':(11.7,8.27)})\n",
    "\n",
    "groups = sns.histplot(data = df, \n",
    "              x='ctr', \n",
    "              hue='exp_group', \n",
    "              palette = ['r', 'b'],\n",
    "              alpha=0.5,\n",
    "              kde=False)"
   ]
  },
  {
   "cell_type": "code",
   "execution_count": 6,
   "id": "b16512e5-2b9e-4b43-b508-57f80332f3f5",
   "metadata": {},
   "outputs": [
    {
     "data": {
      "text/plain": [
       "Ttest_indResult(statistic=1.230063886712762, pvalue=0.218683131143066)"
      ]
     },
     "execution_count": 6,
     "metadata": {},
     "output_type": "execute_result"
    }
   ],
   "source": [
    "stats.ttest_ind(df[df.exp_group == 2].ctr, df[df.exp_group == 3].ctr, equal_var=False)"
   ]
  },
  {
   "cell_type": "markdown",
   "id": "9a4e22e0-72c2-4140-ae41-c8b8eadf87bb",
   "metadata": {},
   "source": [
    "**We extract subsamples without  duplication of data and perform the corresponding calculations**"
   ]
  },
  {
   "cell_type": "code",
   "execution_count": 7,
   "id": "1e04120b-9f16-4f36-951e-3f80cdaccf0e",
   "metadata": {},
   "outputs": [],
   "source": [
    "def get_bootstrap(\n",
    "    data_column_1, # числовые значения первой выборки\n",
    "    data_column_2, # числовые значения второй выборки\n",
    "    boot_it = 10000, # количество бутстрэп-подвыборок\n",
    "    boot_len = 500, # величина подвыборки\n",
    "):\n",
    "    boot_data = []\n",
    "    stat_data = []\n",
    "    for i in tqdm(range(boot_it)): # извлекаем подвыборки\n",
    "        samples_1 = data_column_1.sample(\n",
    "            boot_len, \n",
    "            replace = False # параметр возвращения\n",
    "        ).values\n",
    "        \n",
    "        samples_2 = data_column_2.sample(\n",
    "            boot_len,\n",
    "            replace = False\n",
    "        ).values\n",
    "        \n",
    "        stat, p_result = stats.ttest_ind(samples_1,\n",
    "                samples_2,\n",
    "                equal_var=False)\n",
    "        \n",
    "        boot_data.append(p_result)\n",
    "        stat_data.append(stat)\n",
    "    pd_boot_data = pd.DataFrame(boot_data)\n",
    "    pd_stat_data = pd.DataFrame(stat_data)\n",
    "        \n",
    "    # Визуализация\n",
    "    plt.hist(pd_boot_data[0])\n",
    "    plt.style.use('ggplot')\n",
    "    plt.xlabel('p-value')\n",
    "    plt.ylabel('frequency')\n",
    "    plt.title(\"Histogram of boot_data\")\n",
    "    plt.show()\n",
    "    plt.hist(pd_stat_data[0])\n",
    "    plt.xlabel('stat_data')\n",
    "    plt.ylabel('frequency')\n",
    "    plt.title(\"Histogram of stat_data\")\n",
    "    plt.show()\n",
    "    \n",
    "    return {\"boot_data\": boot_data}"
   ]
  },
  {
   "cell_type": "code",
   "execution_count": 8,
   "id": "7ad62d62-3750-498b-b389-990ea0a7c0ae",
   "metadata": {},
   "outputs": [
    {
     "data": {
      "application/vnd.jupyter.widget-view+json": {
       "model_id": "32b317dc4c8246a0a27df8057577d255",
       "version_major": 2,
       "version_minor": 0
      },
      "text/plain": [
       "  0%|          | 0/10000 [00:00<?, ?it/s]"
      ]
     },
     "metadata": {},
     "output_type": "display_data"
    },
    {
     "data": {
      "image/png": "[encoded data removed]",
      "text/plain": [
       "<Figure size 842.4x595.44 with 1 Axes>"
      ]
     },
     "metadata": {},
     "output_type": "display_data"
    },
    {
     "data": {
      "image/png": "[encoded data removed]",
      "text/plain": [
       "<Figure size 842.4x595.44 with 1 Axes>"
      ]
     },
     "metadata": {},
     "output_type": "display_data"
    }
   ],
   "source": [
    "booted_data = get_bootstrap(df[df.exp_group == 2].ctr, df[df.exp_group == 3].ctr)"
   ]
  },
  {
   "cell_type": "code",
   "execution_count": 12,
   "id": "7a47881c-b555-401d-9f9d-b551546f1878",
   "metadata": {},
   "outputs": [
    {
     "data": {
      "text/plain": [
       "0    0.049913\n",
       "Name: 0.05, dtype: float64"
      ]
     },
     "execution_count": 12,
     "metadata": {},
     "output_type": "execute_result"
    }
   ],
   "source": [
    "pd.DataFrame(booted_data[\"boot_data\"]).quantile(0.05)"
   ]
  },
  {
   "cell_type": "markdown",
   "id": "d5711ac0-3303-47fc-b6b6-329a85a1efdb",
   "metadata": {},
   "source": [
    "**Conclusion: as a result of 10,000 comparisons of subsamples of CTR values of groups 2 and 3, p-value was obtained. In this case, the 5% quantile of the resulting p-value distribution is 0.049, i.e. only in 5% of cases we got a statistically significant difference. Thus, the splitting system works correctly**"
   ]
  },
  {
   "cell_type": "code",
   "execution_count": null,
   "id": "675cc665-e60e-4a84-82d0-b0521674fb35",
   "metadata": {},
   "outputs": [],
   "source": []
  }
 ],
 "metadata": {
  "kernelspec": {
   "display_name": "Python 3 (ipykernel)",
   "language": "python",
   "name": "python3"
  },
  "language_info": {
   "codemirror_mode": {
    "name": "ipython",
    "version": 3
   },
   "file_extension": ".py",
   "mimetype": "text/x-python",
   "name": "python",
   "nbconvert_exporter": "python",
   "pygments_lexer": "ipython3",
   "version": "3.9.12"
  }
 },
 "nbformat": 4,
 "nbformat_minor": 5
}
